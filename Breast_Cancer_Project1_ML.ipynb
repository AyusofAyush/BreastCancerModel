{
 "cells": [
  {
   "cell_type": "code",
   "execution_count": 2,
   "metadata": {},
   "outputs": [],
   "source": [
    "import pandas as pd\n",
    "import numpy as np \n",
    "import matplotlib.pyplot as plt\n",
    "import seaborn as sns"
   ]
  },
  {
   "cell_type": "code",
   "execution_count": 4,
   "metadata": {},
   "outputs": [],
   "source": [
    "from sklearn.datasets import load_breast_cancer"
   ]
  },
  {
   "cell_type": "code",
   "execution_count": 5,
   "metadata": {},
   "outputs": [],
   "source": [
    "cancer = load_breast_cancer()"
   ]
  },
  {
   "cell_type": "code",
   "execution_count": 6,
   "metadata": {},
   "outputs": [
    {
     "data": {
      "text/plain": [
       "{'data': array([[1.799e+01, 1.038e+01, 1.228e+02, ..., 2.654e-01, 4.601e-01,\n",
       "         1.189e-01],\n",
       "        [2.057e+01, 1.777e+01, 1.329e+02, ..., 1.860e-01, 2.750e-01,\n",
       "         8.902e-02],\n",
       "        [1.969e+01, 2.125e+01, 1.300e+02, ..., 2.430e-01, 3.613e-01,\n",
       "         8.758e-02],\n",
       "        ...,\n",
       "        [1.660e+01, 2.808e+01, 1.083e+02, ..., 1.418e-01, 2.218e-01,\n",
       "         7.820e-02],\n",
       "        [2.060e+01, 2.933e+01, 1.401e+02, ..., 2.650e-01, 4.087e-01,\n",
       "         1.240e-01],\n",
       "        [7.760e+00, 2.454e+01, 4.792e+01, ..., 0.000e+00, 2.871e-01,\n",
       "         7.039e-02]]),\n",
       " 'target': array([0, 0, 0, 0, 0, 0, 0, 0, 0, 0, 0, 0, 0, 0, 0, 0, 0, 0, 0, 1, 1, 1,\n",
       "        0, 0, 0, 0, 0, 0, 0, 0, 0, 0, 0, 0, 0, 0, 0, 1, 0, 0, 0, 0, 0, 0,\n",
       "        0, 0, 1, 0, 1, 1, 1, 1, 1, 0, 0, 1, 0, 0, 1, 1, 1, 1, 0, 1, 0, 0,\n",
       "        1, 1, 1, 1, 0, 1, 0, 0, 1, 0, 1, 0, 0, 1, 1, 1, 0, 0, 1, 0, 0, 0,\n",
       "        1, 1, 1, 0, 1, 1, 0, 0, 1, 1, 1, 0, 0, 1, 1, 1, 1, 0, 1, 1, 0, 1,\n",
       "        1, 1, 1, 1, 1, 1, 1, 0, 0, 0, 1, 0, 0, 1, 1, 1, 0, 0, 1, 0, 1, 0,\n",
       "        0, 1, 0, 0, 1, 1, 0, 1, 1, 0, 1, 1, 1, 1, 0, 1, 1, 1, 1, 1, 1, 1,\n",
       "        1, 1, 0, 1, 1, 1, 1, 0, 0, 1, 0, 1, 1, 0, 0, 1, 1, 0, 0, 1, 1, 1,\n",
       "        1, 0, 1, 1, 0, 0, 0, 1, 0, 1, 0, 1, 1, 1, 0, 1, 1, 0, 0, 1, 0, 0,\n",
       "        0, 0, 1, 0, 0, 0, 1, 0, 1, 0, 1, 1, 0, 1, 0, 0, 0, 0, 1, 1, 0, 0,\n",
       "        1, 1, 1, 0, 1, 1, 1, 1, 1, 0, 0, 1, 1, 0, 1, 1, 0, 0, 1, 0, 1, 1,\n",
       "        1, 1, 0, 1, 1, 1, 1, 1, 0, 1, 0, 0, 0, 0, 0, 0, 0, 0, 0, 0, 0, 0,\n",
       "        0, 0, 1, 1, 1, 1, 1, 1, 0, 1, 0, 1, 1, 0, 1, 1, 0, 1, 0, 0, 1, 1,\n",
       "        1, 1, 1, 1, 1, 1, 1, 1, 1, 1, 1, 0, 1, 1, 0, 1, 0, 1, 1, 1, 1, 1,\n",
       "        1, 1, 1, 1, 1, 1, 1, 1, 1, 0, 1, 1, 1, 0, 1, 0, 1, 1, 1, 1, 0, 0,\n",
       "        0, 1, 1, 1, 1, 0, 1, 0, 1, 0, 1, 1, 1, 0, 1, 1, 1, 1, 1, 1, 1, 0,\n",
       "        0, 0, 1, 1, 1, 1, 1, 1, 1, 1, 1, 1, 1, 0, 0, 1, 0, 0, 0, 1, 0, 0,\n",
       "        1, 1, 1, 1, 1, 0, 1, 1, 1, 1, 1, 0, 1, 1, 1, 0, 1, 1, 0, 0, 1, 1,\n",
       "        1, 1, 1, 1, 0, 1, 1, 1, 1, 1, 1, 1, 0, 1, 1, 1, 1, 1, 0, 1, 1, 0,\n",
       "        1, 1, 1, 1, 1, 1, 1, 1, 1, 1, 1, 1, 0, 1, 0, 0, 1, 0, 1, 1, 1, 1,\n",
       "        1, 0, 1, 1, 0, 1, 0, 1, 1, 0, 1, 0, 1, 1, 1, 1, 1, 1, 1, 1, 0, 0,\n",
       "        1, 1, 1, 1, 1, 1, 0, 1, 1, 1, 1, 1, 1, 1, 1, 1, 1, 0, 1, 1, 1, 1,\n",
       "        1, 1, 1, 0, 1, 0, 1, 1, 0, 1, 1, 1, 1, 1, 0, 0, 1, 0, 1, 0, 1, 1,\n",
       "        1, 1, 1, 0, 1, 1, 0, 1, 0, 1, 0, 0, 1, 1, 1, 0, 1, 1, 1, 1, 1, 1,\n",
       "        1, 1, 1, 1, 1, 0, 1, 0, 0, 1, 1, 1, 1, 1, 1, 1, 1, 1, 1, 1, 1, 1,\n",
       "        1, 1, 1, 1, 1, 1, 1, 1, 1, 1, 1, 1, 0, 0, 0, 0, 0, 0, 1]),\n",
       " 'target_names': array(['malignant', 'benign'], dtype='<U9'),\n",
       " 'DESCR': 'Breast Cancer Wisconsin (Diagnostic) Database\\n=============================================\\n\\nNotes\\n-----\\nData Set Characteristics:\\n    :Number of Instances: 569\\n\\n    :Number of Attributes: 30 numeric, predictive attributes and the class\\n\\n    :Attribute Information:\\n        - radius (mean of distances from center to points on the perimeter)\\n        - texture (standard deviation of gray-scale values)\\n        - perimeter\\n        - area\\n        - smoothness (local variation in radius lengths)\\n        - compactness (perimeter^2 / area - 1.0)\\n        - concavity (severity of concave portions of the contour)\\n        - concave points (number of concave portions of the contour)\\n        - symmetry \\n        - fractal dimension (\"coastline approximation\" - 1)\\n\\n        The mean, standard error, and \"worst\" or largest (mean of the three\\n        largest values) of these features were computed for each image,\\n        resulting in 30 features.  For instance, field 3 is Mean Radius, field\\n        13 is Radius SE, field 23 is Worst Radius.\\n\\n        - class:\\n                - WDBC-Malignant\\n                - WDBC-Benign\\n\\n    :Summary Statistics:\\n\\n    ===================================== ====== ======\\n                                           Min    Max\\n    ===================================== ====== ======\\n    radius (mean):                        6.981  28.11\\n    texture (mean):                       9.71   39.28\\n    perimeter (mean):                     43.79  188.5\\n    area (mean):                          143.5  2501.0\\n    smoothness (mean):                    0.053  0.163\\n    compactness (mean):                   0.019  0.345\\n    concavity (mean):                     0.0    0.427\\n    concave points (mean):                0.0    0.201\\n    symmetry (mean):                      0.106  0.304\\n    fractal dimension (mean):             0.05   0.097\\n    radius (standard error):              0.112  2.873\\n    texture (standard error):             0.36   4.885\\n    perimeter (standard error):           0.757  21.98\\n    area (standard error):                6.802  542.2\\n    smoothness (standard error):          0.002  0.031\\n    compactness (standard error):         0.002  0.135\\n    concavity (standard error):           0.0    0.396\\n    concave points (standard error):      0.0    0.053\\n    symmetry (standard error):            0.008  0.079\\n    fractal dimension (standard error):   0.001  0.03\\n    radius (worst):                       7.93   36.04\\n    texture (worst):                      12.02  49.54\\n    perimeter (worst):                    50.41  251.2\\n    area (worst):                         185.2  4254.0\\n    smoothness (worst):                   0.071  0.223\\n    compactness (worst):                  0.027  1.058\\n    concavity (worst):                    0.0    1.252\\n    concave points (worst):               0.0    0.291\\n    symmetry (worst):                     0.156  0.664\\n    fractal dimension (worst):            0.055  0.208\\n    ===================================== ====== ======\\n\\n    :Missing Attribute Values: None\\n\\n    :Class Distribution: 212 - Malignant, 357 - Benign\\n\\n    :Creator:  Dr. William H. Wolberg, W. Nick Street, Olvi L. Mangasarian\\n\\n    :Donor: Nick Street\\n\\n    :Date: November, 1995\\n\\nThis is a copy of UCI ML Breast Cancer Wisconsin (Diagnostic) datasets.\\nhttps://goo.gl/U2Uwz2\\n\\nFeatures are computed from a digitized image of a fine needle\\naspirate (FNA) of a breast mass.  They describe\\ncharacteristics of the cell nuclei present in the image.\\n\\nSeparating plane described above was obtained using\\nMultisurface Method-Tree (MSM-T) [K. P. Bennett, \"Decision Tree\\nConstruction Via Linear Programming.\" Proceedings of the 4th\\nMidwest Artificial Intelligence and Cognitive Science Society,\\npp. 97-101, 1992], a classification method which uses linear\\nprogramming to construct a decision tree.  Relevant features\\nwere selected using an exhaustive search in the space of 1-4\\nfeatures and 1-3 separating planes.\\n\\nThe actual linear program used to obtain the separating plane\\nin the 3-dimensional space is that described in:\\n[K. P. Bennett and O. L. Mangasarian: \"Robust Linear\\nProgramming Discrimination of Two Linearly Inseparable Sets\",\\nOptimization Methods and Software 1, 1992, 23-34].\\n\\nThis database is also available through the UW CS ftp server:\\n\\nftp ftp.cs.wisc.edu\\ncd math-prog/cpo-dataset/machine-learn/WDBC/\\n\\nReferences\\n----------\\n   - W.N. Street, W.H. Wolberg and O.L. Mangasarian. Nuclear feature extraction \\n     for breast tumor diagnosis. IS&T/SPIE 1993 International Symposium on \\n     Electronic Imaging: Science and Technology, volume 1905, pages 861-870,\\n     San Jose, CA, 1993.\\n   - O.L. Mangasarian, W.N. Street and W.H. Wolberg. Breast cancer diagnosis and \\n     prognosis via linear programming. Operations Research, 43(4), pages 570-577, \\n     July-August 1995.\\n   - W.H. Wolberg, W.N. Street, and O.L. Mangasarian. Machine learning techniques\\n     to diagnose breast cancer from fine-needle aspirates. Cancer Letters 77 (1994) \\n     163-171.\\n',\n",
       " 'feature_names': array(['mean radius', 'mean texture', 'mean perimeter', 'mean area',\n",
       "        'mean smoothness', 'mean compactness', 'mean concavity',\n",
       "        'mean concave points', 'mean symmetry', 'mean fractal dimension',\n",
       "        'radius error', 'texture error', 'perimeter error', 'area error',\n",
       "        'smoothness error', 'compactness error', 'concavity error',\n",
       "        'concave points error', 'symmetry error',\n",
       "        'fractal dimension error', 'worst radius', 'worst texture',\n",
       "        'worst perimeter', 'worst area', 'worst smoothness',\n",
       "        'worst compactness', 'worst concavity', 'worst concave points',\n",
       "        'worst symmetry', 'worst fractal dimension'], dtype='<U23')}"
      ]
     },
     "execution_count": 6,
     "metadata": {},
     "output_type": "execute_result"
    }
   ],
   "source": [
    "cancer"
   ]
  },
  {
   "cell_type": "code",
   "execution_count": 7,
   "metadata": {},
   "outputs": [],
   "source": [
    "df_cancer = pd.DataFrame(np.c_[cancer['data'],cancer['target']],columns = np.append(cancer['feature_names'],['target']))"
   ]
  },
  {
   "cell_type": "code",
   "execution_count": 8,
   "metadata": {},
   "outputs": [
    {
     "data": {
      "text/html": [
       "<div>\n",
       "<style scoped>\n",
       "    .dataframe tbody tr th:only-of-type {\n",
       "        vertical-align: middle;\n",
       "    }\n",
       "\n",
       "    .dataframe tbody tr th {\n",
       "        vertical-align: top;\n",
       "    }\n",
       "\n",
       "    .dataframe thead th {\n",
       "        text-align: right;\n",
       "    }\n",
       "</style>\n",
       "<table border=\"1\" class=\"dataframe\">\n",
       "  <thead>\n",
       "    <tr style=\"text-align: right;\">\n",
       "      <th></th>\n",
       "      <th>mean radius</th>\n",
       "      <th>mean texture</th>\n",
       "      <th>mean perimeter</th>\n",
       "      <th>mean area</th>\n",
       "      <th>mean smoothness</th>\n",
       "      <th>mean compactness</th>\n",
       "      <th>mean concavity</th>\n",
       "      <th>mean concave points</th>\n",
       "      <th>mean symmetry</th>\n",
       "      <th>mean fractal dimension</th>\n",
       "      <th>...</th>\n",
       "      <th>worst texture</th>\n",
       "      <th>worst perimeter</th>\n",
       "      <th>worst area</th>\n",
       "      <th>worst smoothness</th>\n",
       "      <th>worst compactness</th>\n",
       "      <th>worst concavity</th>\n",
       "      <th>worst concave points</th>\n",
       "      <th>worst symmetry</th>\n",
       "      <th>worst fractal dimension</th>\n",
       "      <th>target</th>\n",
       "    </tr>\n",
       "  </thead>\n",
       "  <tbody>\n",
       "    <tr>\n",
       "      <th>0</th>\n",
       "      <td>17.99</td>\n",
       "      <td>10.38</td>\n",
       "      <td>122.80</td>\n",
       "      <td>1001.0</td>\n",
       "      <td>0.11840</td>\n",
       "      <td>0.27760</td>\n",
       "      <td>0.3001</td>\n",
       "      <td>0.14710</td>\n",
       "      <td>0.2419</td>\n",
       "      <td>0.07871</td>\n",
       "      <td>...</td>\n",
       "      <td>17.33</td>\n",
       "      <td>184.60</td>\n",
       "      <td>2019.0</td>\n",
       "      <td>0.1622</td>\n",
       "      <td>0.6656</td>\n",
       "      <td>0.7119</td>\n",
       "      <td>0.2654</td>\n",
       "      <td>0.4601</td>\n",
       "      <td>0.11890</td>\n",
       "      <td>0.0</td>\n",
       "    </tr>\n",
       "    <tr>\n",
       "      <th>1</th>\n",
       "      <td>20.57</td>\n",
       "      <td>17.77</td>\n",
       "      <td>132.90</td>\n",
       "      <td>1326.0</td>\n",
       "      <td>0.08474</td>\n",
       "      <td>0.07864</td>\n",
       "      <td>0.0869</td>\n",
       "      <td>0.07017</td>\n",
       "      <td>0.1812</td>\n",
       "      <td>0.05667</td>\n",
       "      <td>...</td>\n",
       "      <td>23.41</td>\n",
       "      <td>158.80</td>\n",
       "      <td>1956.0</td>\n",
       "      <td>0.1238</td>\n",
       "      <td>0.1866</td>\n",
       "      <td>0.2416</td>\n",
       "      <td>0.1860</td>\n",
       "      <td>0.2750</td>\n",
       "      <td>0.08902</td>\n",
       "      <td>0.0</td>\n",
       "    </tr>\n",
       "    <tr>\n",
       "      <th>2</th>\n",
       "      <td>19.69</td>\n",
       "      <td>21.25</td>\n",
       "      <td>130.00</td>\n",
       "      <td>1203.0</td>\n",
       "      <td>0.10960</td>\n",
       "      <td>0.15990</td>\n",
       "      <td>0.1974</td>\n",
       "      <td>0.12790</td>\n",
       "      <td>0.2069</td>\n",
       "      <td>0.05999</td>\n",
       "      <td>...</td>\n",
       "      <td>25.53</td>\n",
       "      <td>152.50</td>\n",
       "      <td>1709.0</td>\n",
       "      <td>0.1444</td>\n",
       "      <td>0.4245</td>\n",
       "      <td>0.4504</td>\n",
       "      <td>0.2430</td>\n",
       "      <td>0.3613</td>\n",
       "      <td>0.08758</td>\n",
       "      <td>0.0</td>\n",
       "    </tr>\n",
       "    <tr>\n",
       "      <th>3</th>\n",
       "      <td>11.42</td>\n",
       "      <td>20.38</td>\n",
       "      <td>77.58</td>\n",
       "      <td>386.1</td>\n",
       "      <td>0.14250</td>\n",
       "      <td>0.28390</td>\n",
       "      <td>0.2414</td>\n",
       "      <td>0.10520</td>\n",
       "      <td>0.2597</td>\n",
       "      <td>0.09744</td>\n",
       "      <td>...</td>\n",
       "      <td>26.50</td>\n",
       "      <td>98.87</td>\n",
       "      <td>567.7</td>\n",
       "      <td>0.2098</td>\n",
       "      <td>0.8663</td>\n",
       "      <td>0.6869</td>\n",
       "      <td>0.2575</td>\n",
       "      <td>0.6638</td>\n",
       "      <td>0.17300</td>\n",
       "      <td>0.0</td>\n",
       "    </tr>\n",
       "    <tr>\n",
       "      <th>4</th>\n",
       "      <td>20.29</td>\n",
       "      <td>14.34</td>\n",
       "      <td>135.10</td>\n",
       "      <td>1297.0</td>\n",
       "      <td>0.10030</td>\n",
       "      <td>0.13280</td>\n",
       "      <td>0.1980</td>\n",
       "      <td>0.10430</td>\n",
       "      <td>0.1809</td>\n",
       "      <td>0.05883</td>\n",
       "      <td>...</td>\n",
       "      <td>16.67</td>\n",
       "      <td>152.20</td>\n",
       "      <td>1575.0</td>\n",
       "      <td>0.1374</td>\n",
       "      <td>0.2050</td>\n",
       "      <td>0.4000</td>\n",
       "      <td>0.1625</td>\n",
       "      <td>0.2364</td>\n",
       "      <td>0.07678</td>\n",
       "      <td>0.0</td>\n",
       "    </tr>\n",
       "  </tbody>\n",
       "</table>\n",
       "<p>5 rows × 31 columns</p>\n",
       "</div>"
      ],
      "text/plain": [
       "   mean radius  mean texture  mean perimeter  mean area  mean smoothness  \\\n",
       "0        17.99         10.38          122.80     1001.0          0.11840   \n",
       "1        20.57         17.77          132.90     1326.0          0.08474   \n",
       "2        19.69         21.25          130.00     1203.0          0.10960   \n",
       "3        11.42         20.38           77.58      386.1          0.14250   \n",
       "4        20.29         14.34          135.10     1297.0          0.10030   \n",
       "\n",
       "   mean compactness  mean concavity  mean concave points  mean symmetry  \\\n",
       "0           0.27760          0.3001              0.14710         0.2419   \n",
       "1           0.07864          0.0869              0.07017         0.1812   \n",
       "2           0.15990          0.1974              0.12790         0.2069   \n",
       "3           0.28390          0.2414              0.10520         0.2597   \n",
       "4           0.13280          0.1980              0.10430         0.1809   \n",
       "\n",
       "   mean fractal dimension   ...    worst texture  worst perimeter  worst area  \\\n",
       "0                 0.07871   ...            17.33           184.60      2019.0   \n",
       "1                 0.05667   ...            23.41           158.80      1956.0   \n",
       "2                 0.05999   ...            25.53           152.50      1709.0   \n",
       "3                 0.09744   ...            26.50            98.87       567.7   \n",
       "4                 0.05883   ...            16.67           152.20      1575.0   \n",
       "\n",
       "   worst smoothness  worst compactness  worst concavity  worst concave points  \\\n",
       "0            0.1622             0.6656           0.7119                0.2654   \n",
       "1            0.1238             0.1866           0.2416                0.1860   \n",
       "2            0.1444             0.4245           0.4504                0.2430   \n",
       "3            0.2098             0.8663           0.6869                0.2575   \n",
       "4            0.1374             0.2050           0.4000                0.1625   \n",
       "\n",
       "   worst symmetry  worst fractal dimension  target  \n",
       "0          0.4601                  0.11890     0.0  \n",
       "1          0.2750                  0.08902     0.0  \n",
       "2          0.3613                  0.08758     0.0  \n",
       "3          0.6638                  0.17300     0.0  \n",
       "4          0.2364                  0.07678     0.0  \n",
       "\n",
       "[5 rows x 31 columns]"
      ]
     },
     "execution_count": 8,
     "metadata": {},
     "output_type": "execute_result"
    }
   ],
   "source": [
    "df_cancer.head()"
   ]
  },
  {
   "cell_type": "code",
   "execution_count": 11,
   "metadata": {},
   "outputs": [],
   "source": [
    "X = df_cancer.drop(['target'], axis = 1)"
   ]
  },
  {
   "cell_type": "code",
   "execution_count": 12,
   "metadata": {},
   "outputs": [
    {
     "data": {
      "text/plain": [
       "Index(['mean radius', 'mean texture', 'mean perimeter', 'mean area',\n",
       "       'mean smoothness', 'mean compactness', 'mean concavity',\n",
       "       'mean concave points', 'mean symmetry', 'mean fractal dimension',\n",
       "       'radius error', 'texture error', 'perimeter error', 'area error',\n",
       "       'smoothness error', 'compactness error', 'concavity error',\n",
       "       'concave points error', 'symmetry error', 'fractal dimension error',\n",
       "       'worst radius', 'worst texture', 'worst perimeter', 'worst area',\n",
       "       'worst smoothness', 'worst compactness', 'worst concavity',\n",
       "       'worst concave points', 'worst symmetry', 'worst fractal dimension'],\n",
       "      dtype='object')"
      ]
     },
     "execution_count": 12,
     "metadata": {},
     "output_type": "execute_result"
    }
   ],
   "source": [
    "X.keys()"
   ]
  },
  {
   "cell_type": "code",
   "execution_count": 13,
   "metadata": {},
   "outputs": [
    {
     "data": {
      "text/html": [
       "<div>\n",
       "<style scoped>\n",
       "    .dataframe tbody tr th:only-of-type {\n",
       "        vertical-align: middle;\n",
       "    }\n",
       "\n",
       "    .dataframe tbody tr th {\n",
       "        vertical-align: top;\n",
       "    }\n",
       "\n",
       "    .dataframe thead th {\n",
       "        text-align: right;\n",
       "    }\n",
       "</style>\n",
       "<table border=\"1\" class=\"dataframe\">\n",
       "  <thead>\n",
       "    <tr style=\"text-align: right;\">\n",
       "      <th></th>\n",
       "      <th>mean radius</th>\n",
       "      <th>mean texture</th>\n",
       "      <th>mean perimeter</th>\n",
       "      <th>mean area</th>\n",
       "      <th>mean smoothness</th>\n",
       "      <th>mean compactness</th>\n",
       "      <th>mean concavity</th>\n",
       "      <th>mean concave points</th>\n",
       "      <th>mean symmetry</th>\n",
       "      <th>mean fractal dimension</th>\n",
       "      <th>...</th>\n",
       "      <th>worst radius</th>\n",
       "      <th>worst texture</th>\n",
       "      <th>worst perimeter</th>\n",
       "      <th>worst area</th>\n",
       "      <th>worst smoothness</th>\n",
       "      <th>worst compactness</th>\n",
       "      <th>worst concavity</th>\n",
       "      <th>worst concave points</th>\n",
       "      <th>worst symmetry</th>\n",
       "      <th>worst fractal dimension</th>\n",
       "    </tr>\n",
       "  </thead>\n",
       "  <tbody>\n",
       "    <tr>\n",
       "      <th>0</th>\n",
       "      <td>17.99</td>\n",
       "      <td>10.38</td>\n",
       "      <td>122.80</td>\n",
       "      <td>1001.0</td>\n",
       "      <td>0.11840</td>\n",
       "      <td>0.27760</td>\n",
       "      <td>0.3001</td>\n",
       "      <td>0.14710</td>\n",
       "      <td>0.2419</td>\n",
       "      <td>0.07871</td>\n",
       "      <td>...</td>\n",
       "      <td>25.38</td>\n",
       "      <td>17.33</td>\n",
       "      <td>184.60</td>\n",
       "      <td>2019.0</td>\n",
       "      <td>0.1622</td>\n",
       "      <td>0.6656</td>\n",
       "      <td>0.7119</td>\n",
       "      <td>0.2654</td>\n",
       "      <td>0.4601</td>\n",
       "      <td>0.11890</td>\n",
       "    </tr>\n",
       "    <tr>\n",
       "      <th>1</th>\n",
       "      <td>20.57</td>\n",
       "      <td>17.77</td>\n",
       "      <td>132.90</td>\n",
       "      <td>1326.0</td>\n",
       "      <td>0.08474</td>\n",
       "      <td>0.07864</td>\n",
       "      <td>0.0869</td>\n",
       "      <td>0.07017</td>\n",
       "      <td>0.1812</td>\n",
       "      <td>0.05667</td>\n",
       "      <td>...</td>\n",
       "      <td>24.99</td>\n",
       "      <td>23.41</td>\n",
       "      <td>158.80</td>\n",
       "      <td>1956.0</td>\n",
       "      <td>0.1238</td>\n",
       "      <td>0.1866</td>\n",
       "      <td>0.2416</td>\n",
       "      <td>0.1860</td>\n",
       "      <td>0.2750</td>\n",
       "      <td>0.08902</td>\n",
       "    </tr>\n",
       "    <tr>\n",
       "      <th>2</th>\n",
       "      <td>19.69</td>\n",
       "      <td>21.25</td>\n",
       "      <td>130.00</td>\n",
       "      <td>1203.0</td>\n",
       "      <td>0.10960</td>\n",
       "      <td>0.15990</td>\n",
       "      <td>0.1974</td>\n",
       "      <td>0.12790</td>\n",
       "      <td>0.2069</td>\n",
       "      <td>0.05999</td>\n",
       "      <td>...</td>\n",
       "      <td>23.57</td>\n",
       "      <td>25.53</td>\n",
       "      <td>152.50</td>\n",
       "      <td>1709.0</td>\n",
       "      <td>0.1444</td>\n",
       "      <td>0.4245</td>\n",
       "      <td>0.4504</td>\n",
       "      <td>0.2430</td>\n",
       "      <td>0.3613</td>\n",
       "      <td>0.08758</td>\n",
       "    </tr>\n",
       "    <tr>\n",
       "      <th>3</th>\n",
       "      <td>11.42</td>\n",
       "      <td>20.38</td>\n",
       "      <td>77.58</td>\n",
       "      <td>386.1</td>\n",
       "      <td>0.14250</td>\n",
       "      <td>0.28390</td>\n",
       "      <td>0.2414</td>\n",
       "      <td>0.10520</td>\n",
       "      <td>0.2597</td>\n",
       "      <td>0.09744</td>\n",
       "      <td>...</td>\n",
       "      <td>14.91</td>\n",
       "      <td>26.50</td>\n",
       "      <td>98.87</td>\n",
       "      <td>567.7</td>\n",
       "      <td>0.2098</td>\n",
       "      <td>0.8663</td>\n",
       "      <td>0.6869</td>\n",
       "      <td>0.2575</td>\n",
       "      <td>0.6638</td>\n",
       "      <td>0.17300</td>\n",
       "    </tr>\n",
       "    <tr>\n",
       "      <th>4</th>\n",
       "      <td>20.29</td>\n",
       "      <td>14.34</td>\n",
       "      <td>135.10</td>\n",
       "      <td>1297.0</td>\n",
       "      <td>0.10030</td>\n",
       "      <td>0.13280</td>\n",
       "      <td>0.1980</td>\n",
       "      <td>0.10430</td>\n",
       "      <td>0.1809</td>\n",
       "      <td>0.05883</td>\n",
       "      <td>...</td>\n",
       "      <td>22.54</td>\n",
       "      <td>16.67</td>\n",
       "      <td>152.20</td>\n",
       "      <td>1575.0</td>\n",
       "      <td>0.1374</td>\n",
       "      <td>0.2050</td>\n",
       "      <td>0.4000</td>\n",
       "      <td>0.1625</td>\n",
       "      <td>0.2364</td>\n",
       "      <td>0.07678</td>\n",
       "    </tr>\n",
       "  </tbody>\n",
       "</table>\n",
       "<p>5 rows × 30 columns</p>\n",
       "</div>"
      ],
      "text/plain": [
       "   mean radius  mean texture  mean perimeter  mean area  mean smoothness  \\\n",
       "0        17.99         10.38          122.80     1001.0          0.11840   \n",
       "1        20.57         17.77          132.90     1326.0          0.08474   \n",
       "2        19.69         21.25          130.00     1203.0          0.10960   \n",
       "3        11.42         20.38           77.58      386.1          0.14250   \n",
       "4        20.29         14.34          135.10     1297.0          0.10030   \n",
       "\n",
       "   mean compactness  mean concavity  mean concave points  mean symmetry  \\\n",
       "0           0.27760          0.3001              0.14710         0.2419   \n",
       "1           0.07864          0.0869              0.07017         0.1812   \n",
       "2           0.15990          0.1974              0.12790         0.2069   \n",
       "3           0.28390          0.2414              0.10520         0.2597   \n",
       "4           0.13280          0.1980              0.10430         0.1809   \n",
       "\n",
       "   mean fractal dimension           ...             worst radius  \\\n",
       "0                 0.07871           ...                    25.38   \n",
       "1                 0.05667           ...                    24.99   \n",
       "2                 0.05999           ...                    23.57   \n",
       "3                 0.09744           ...                    14.91   \n",
       "4                 0.05883           ...                    22.54   \n",
       "\n",
       "   worst texture  worst perimeter  worst area  worst smoothness  \\\n",
       "0          17.33           184.60      2019.0            0.1622   \n",
       "1          23.41           158.80      1956.0            0.1238   \n",
       "2          25.53           152.50      1709.0            0.1444   \n",
       "3          26.50            98.87       567.7            0.2098   \n",
       "4          16.67           152.20      1575.0            0.1374   \n",
       "\n",
       "   worst compactness  worst concavity  worst concave points  worst symmetry  \\\n",
       "0             0.6656           0.7119                0.2654          0.4601   \n",
       "1             0.1866           0.2416                0.1860          0.2750   \n",
       "2             0.4245           0.4504                0.2430          0.3613   \n",
       "3             0.8663           0.6869                0.2575          0.6638   \n",
       "4             0.2050           0.4000                0.1625          0.2364   \n",
       "\n",
       "   worst fractal dimension  \n",
       "0                  0.11890  \n",
       "1                  0.08902  \n",
       "2                  0.08758  \n",
       "3                  0.17300  \n",
       "4                  0.07678  \n",
       "\n",
       "[5 rows x 30 columns]"
      ]
     },
     "execution_count": 13,
     "metadata": {},
     "output_type": "execute_result"
    }
   ],
   "source": [
    "X.head()"
   ]
  },
  {
   "cell_type": "code",
   "execution_count": 14,
   "metadata": {},
   "outputs": [],
   "source": [
    "y = df_cancer['target']"
   ]
  },
  {
   "cell_type": "code",
   "execution_count": 15,
   "metadata": {},
   "outputs": [
    {
     "data": {
      "text/plain": [
       "(569,)"
      ]
     },
     "execution_count": 15,
     "metadata": {},
     "output_type": "execute_result"
    }
   ],
   "source": [
    "y.shape"
   ]
  },
  {
   "cell_type": "code",
   "execution_count": 16,
   "metadata": {},
   "outputs": [],
   "source": [
    "from sklearn.model_selection import train_test_split"
   ]
  },
  {
   "cell_type": "code",
   "execution_count": 17,
   "metadata": {},
   "outputs": [],
   "source": [
    "X_train, X_test, y_train, y_test = train_test_split(X, y, test_size=0.2, random_state=5)"
   ]
  },
  {
   "cell_type": "code",
   "execution_count": 18,
   "metadata": {},
   "outputs": [
    {
     "data": {
      "text/plain": [
       "(455, 30)"
      ]
     },
     "execution_count": 18,
     "metadata": {},
     "output_type": "execute_result"
    }
   ],
   "source": [
    "X_train.shape"
   ]
  },
  {
   "cell_type": "code",
   "execution_count": 19,
   "metadata": {},
   "outputs": [
    {
     "data": {
      "text/plain": [
       "(114, 30)"
      ]
     },
     "execution_count": 19,
     "metadata": {},
     "output_type": "execute_result"
    }
   ],
   "source": [
    "X_test.shape"
   ]
  },
  {
   "cell_type": "code",
   "execution_count": 20,
   "metadata": {},
   "outputs": [],
   "source": [
    "from sklearn.svm import SVC"
   ]
  },
  {
   "cell_type": "code",
   "execution_count": 21,
   "metadata": {},
   "outputs": [],
   "source": [
    "from sklearn.metrics import confusion_matrix, classification_report"
   ]
  },
  {
   "cell_type": "code",
   "execution_count": 22,
   "metadata": {},
   "outputs": [],
   "source": [
    "svc_model = SVC()"
   ]
  },
  {
   "cell_type": "code",
   "execution_count": 23,
   "metadata": {},
   "outputs": [
    {
     "data": {
      "text/plain": [
       "SVC(C=1.0, cache_size=200, class_weight=None, coef0=0.0,\n",
       "  decision_function_shape='ovr', degree=3, gamma='auto', kernel='rbf',\n",
       "  max_iter=-1, probability=False, random_state=None, shrinking=True,\n",
       "  tol=0.001, verbose=False)"
      ]
     },
     "execution_count": 23,
     "metadata": {},
     "output_type": "execute_result"
    }
   ],
   "source": [
    "svc_model.fit(X_train, y_train)"
   ]
  },
  {
   "cell_type": "code",
   "execution_count": 24,
   "metadata": {},
   "outputs": [],
   "source": [
    "y_pred = svc_model.predict(X_test)"
   ]
  },
  {
   "cell_type": "code",
   "execution_count": 25,
   "metadata": {},
   "outputs": [],
   "source": [
    "cm = confusion_matrix(y_test, y_pred)"
   ]
  },
  {
   "cell_type": "code",
   "execution_count": 26,
   "metadata": {},
   "outputs": [
    {
     "data": {
      "text/plain": [
       "array([[ 0, 48],\n",
       "       [ 0, 66]], dtype=int64)"
      ]
     },
     "execution_count": 26,
     "metadata": {},
     "output_type": "execute_result"
    }
   ],
   "source": [
    "cm"
   ]
  },
  {
   "cell_type": "code",
   "execution_count": 28,
   "metadata": {},
   "outputs": [
    {
     "data": {
      "text/plain": [
       "<matplotlib.axes._subplots.AxesSubplot at 0x180aec29160>"
      ]
     },
     "execution_count": 28,
     "metadata": {},
     "output_type": "execute_result"
    },
    {
     "data": {
      "image/png": "[encoded data removed]",
      "text/plain": [
       "<Figure size 432x288 with 2 Axes>"
      ]
     },
     "metadata": {},
     "output_type": "display_data"
    }
   ],
   "source": [
    "sns.heatmap(cm , annot = True)"
   ]
  },
  {
   "cell_type": "code",
   "execution_count": 29,
   "metadata": {},
   "outputs": [],
   "source": [
    "min_range = X_train.min()"
   ]
  },
  {
   "cell_type": "code",
   "execution_count": 30,
   "metadata": {},
   "outputs": [],
   "source": [
    "range_ = (X_train-min_range).max()"
   ]
  },
  {
   "cell_type": "code",
   "execution_count": 31,
   "metadata": {},
   "outputs": [],
   "source": [
    "X_train_scal = (X_train-min_range)/range_"
   ]
  },
  {
   "cell_type": "code",
   "execution_count": 32,
   "metadata": {},
   "outputs": [
    {
     "data": {
      "text/plain": [
       "<matplotlib.axes._subplots.AxesSubplot at 0x180aea8f128>"
      ]
     },
     "execution_count": 32,
     "metadata": {},
     "output_type": "execute_result"
    },
    {
     "data": {
      "image/png": "[encoded data removed]",
      "text/plain": [
       "<Figure size 432x288 with 1 Axes>"
      ]
     },
     "metadata": {},
     "output_type": "display_data"
    }
   ],
   "source": [
    "sns.scatterplot(x = X_train_scal['mean area'], y = X_train_scal['mean smoothness'], hue = y_train)"
   ]
  },
  {
   "cell_type": "code",
   "execution_count": 34,
   "metadata": {},
   "outputs": [],
   "source": [
    "min_test = X_test.min()\n",
    "mn_range = (X_test-min_test).max()\n",
    "X_test_scal = (X_test-min_test)/mn_range"
   ]
  },
  {
   "cell_type": "code",
   "execution_count": 35,
   "metadata": {},
   "outputs": [
    {
     "data": {
      "text/plain": [
       "SVC(C=1.0, cache_size=200, class_weight=None, coef0=0.0,\n",
       "  decision_function_shape='ovr', degree=3, gamma='auto', kernel='rbf',\n",
       "  max_iter=-1, probability=False, random_state=None, shrinking=True,\n",
       "  tol=0.001, verbose=False)"
      ]
     },
     "execution_count": 35,
     "metadata": {},
     "output_type": "execute_result"
    }
   ],
   "source": [
    "svc_model.fit(X_train_scal,y_train)"
   ]
  },
  {
   "cell_type": "code",
   "execution_count": 36,
   "metadata": {},
   "outputs": [],
   "source": [
    "y_pred2 = svc_model.predict(X_test_scal)"
   ]
  },
  {
   "cell_type": "code",
   "execution_count": 37,
   "metadata": {},
   "outputs": [],
   "source": [
    "cm =  confusion_matrix(y_test, y_pred2)"
   ]
  },
  {
   "cell_type": "code",
   "execution_count": 38,
   "metadata": {},
   "outputs": [
    {
     "data": {
      "text/plain": [
       "array([[43,  5],\n",
       "       [ 0, 66]], dtype=int64)"
      ]
     },
     "execution_count": 38,
     "metadata": {},
     "output_type": "execute_result"
    }
   ],
   "source": [
    "cm"
   ]
  },
  {
   "cell_type": "code",
   "execution_count": 39,
   "metadata": {},
   "outputs": [
    {
     "data": {
      "text/plain": [
       "<matplotlib.axes._subplots.AxesSubplot at 0x180aee4b320>"
      ]
     },
     "execution_count": 39,
     "metadata": {},
     "output_type": "execute_result"
    },
    {
     "data": {
      "image/png": "[encoded data removed]",
      "text/plain": [
       "<Figure size 432x288 with 2 Axes>"
      ]
     },
     "metadata": {},
     "output_type": "display_data"
    }
   ],
   "source": [
    "sns.heatmap(cm, annot= True)"
   ]
  },
  {
   "cell_type": "code",
   "execution_count": 40,
   "metadata": {},
   "outputs": [
    {
     "name": "stdout",
     "output_type": "stream",
     "text": [
      "             precision    recall  f1-score   support\n",
      "\n",
      "        0.0       1.00      0.90      0.95        48\n",
      "        1.0       0.93      1.00      0.96        66\n",
      "\n",
      "avg / total       0.96      0.96      0.96       114\n",
      "\n"
     ]
    }
   ],
   "source": [
    "print (classification_report(y_test, y_pred2))"
   ]
  },
  {
   "cell_type": "code",
   "execution_count": 65,
   "metadata": {},
   "outputs": [],
   "source": [
    "param_grid = {'C': [0.1, 1, 10, 100], 'gamma': [1, 0.1, 0.01, 0.001], 'kernel': ['rbf']} "
   ]
  },
  {
   "cell_type": "code",
   "execution_count": 66,
   "metadata": {},
   "outputs": [],
   "source": [
    "from sklearn.model_selection import GridSearchCV"
   ]
  },
  {
   "cell_type": "code",
   "execution_count": 67,
   "metadata": {},
   "outputs": [],
   "source": [
    "grid = GridSearchCV(SVC(),param_grid,refit=True,verbose=4)"
   ]
  },
  {
   "cell_type": "code",
   "execution_count": 68,
   "metadata": {},
   "outputs": [
    {
     "name": "stdout",
     "output_type": "stream",
     "text": [
      "Fitting 3 folds for each of 16 candidates, totalling 48 fits\n",
      "[CV] C=0.1, gamma=1, kernel=rbf ......................................\n",
      "[CV]  C=0.1, gamma=1, kernel=rbf, score=0.9671052631578947, total=   0.0s\n",
      "[CV] C=0.1, gamma=1, kernel=rbf ......................................\n",
      "[CV]  C=0.1, gamma=1, kernel=rbf, score=0.9210526315789473, total=   0.0s\n",
      "[CV] C=0.1, gamma=1, kernel=rbf ......................................\n",
      "[CV]  C=0.1, gamma=1, kernel=rbf, score=0.9470198675496688, total=   0.0s\n",
      "[CV] C=0.1, gamma=0.1, kernel=rbf ....................................\n",
      "[CV]  C=0.1, gamma=0.1, kernel=rbf, score=0.9144736842105263, total=   0.0s\n",
      "[CV] C=0.1, gamma=0.1, kernel=rbf ....................................\n",
      "[CV]  C=0.1, gamma=0.1, kernel=rbf, score=0.8881578947368421, total=   0.0s\n",
      "[CV] C=0.1, gamma=0.1, kernel=rbf ....................................\n",
      "[CV]  C=0.1, gamma=0.1, kernel=rbf, score=0.8675496688741722, total=   0.0s\n",
      "[CV] C=0.1, gamma=0.01, kernel=rbf ...................................\n",
      "[CV]  C=0.1, gamma=0.01, kernel=rbf, score=0.6381578947368421, total=   0.0s\n",
      "[CV] C=0.1, gamma=0.01, kernel=rbf ...................................\n",
      "[CV]  C=0.1, gamma=0.01, kernel=rbf, score=0.6381578947368421, total=   0.0s\n",
      "[CV] C=0.1, gamma=0.01, kernel=rbf ...................................\n"
     ]
    },
    {
     "name": "stderr",
     "output_type": "stream",
     "text": [
      "[Parallel(n_jobs=1)]: Done   1 out of   1 | elapsed:    0.0s remaining:    0.0s\n",
      "[Parallel(n_jobs=1)]: Done   2 out of   2 | elapsed:    0.0s remaining:    0.0s\n",
      "[Parallel(n_jobs=1)]: Done   3 out of   3 | elapsed:    0.0s remaining:    0.0s\n"
     ]
    },
    {
     "name": "stdout",
     "output_type": "stream",
     "text": [
      "[CV]  C=0.1, gamma=0.01, kernel=rbf, score=0.6423841059602649, total=   0.0s\n",
      "[CV] C=0.1, gamma=0.001, kernel=rbf ..................................\n",
      "[CV]  C=0.1, gamma=0.001, kernel=rbf, score=0.6381578947368421, total=   0.0s\n",
      "[CV] C=0.1, gamma=0.001, kernel=rbf ..................................\n",
      "[CV]  C=0.1, gamma=0.001, kernel=rbf, score=0.6381578947368421, total=   0.0s\n",
      "[CV] C=0.1, gamma=0.001, kernel=rbf ..................................\n",
      "[CV]  C=0.1, gamma=0.001, kernel=rbf, score=0.6423841059602649, total=   0.0s\n",
      "[CV] C=1, gamma=1, kernel=rbf ........................................\n",
      "[CV]  C=1, gamma=1, kernel=rbf, score=0.993421052631579, total=   0.0s\n",
      "[CV] C=1, gamma=1, kernel=rbf ........................................\n",
      "[CV]  C=1, gamma=1, kernel=rbf, score=0.9473684210526315, total=   0.0s\n",
      "[CV] C=1, gamma=1, kernel=rbf ........................................\n",
      "[CV]  C=1, gamma=1, kernel=rbf, score=0.9801324503311258, total=   0.0s\n",
      "[CV] C=1, gamma=0.1, kernel=rbf ......................................\n",
      "[CV]  C=1, gamma=0.1, kernel=rbf, score=0.9736842105263158, total=   0.0s\n",
      "[CV] C=1, gamma=0.1, kernel=rbf ......................................\n",
      "[CV]  C=1, gamma=0.1, kernel=rbf, score=0.9276315789473685, total=   0.0s\n",
      "[CV] C=1, gamma=0.1, kernel=rbf ......................................\n",
      "[CV]  C=1, gamma=0.1, kernel=rbf, score=0.9403973509933775, total=   0.0s\n",
      "[CV] C=1, gamma=0.01, kernel=rbf .....................................\n",
      "[CV]  C=1, gamma=0.01, kernel=rbf, score=0.9144736842105263, total=   0.0s\n",
      "[CV] C=1, gamma=0.01, kernel=rbf .....................................\n",
      "[CV]  C=1, gamma=0.01, kernel=rbf, score=0.8947368421052632, total=   0.0s\n",
      "[CV] C=1, gamma=0.01, kernel=rbf .....................................\n",
      "[CV]  C=1, gamma=0.01, kernel=rbf, score=0.8675496688741722, total=   0.0s\n",
      "[CV] C=1, gamma=0.001, kernel=rbf ....................................\n",
      "[CV]  C=1, gamma=0.001, kernel=rbf, score=0.6381578947368421, total=   0.0s\n",
      "[CV] C=1, gamma=0.001, kernel=rbf ....................................\n",
      "[CV]  C=1, gamma=0.001, kernel=rbf, score=0.6381578947368421, total=   0.0s\n",
      "[CV] C=1, gamma=0.001, kernel=rbf ....................................\n",
      "[CV]  C=1, gamma=0.001, kernel=rbf, score=0.6423841059602649, total=   0.0s\n",
      "[CV] C=10, gamma=1, kernel=rbf .......................................\n",
      "[CV]  C=10, gamma=1, kernel=rbf, score=0.993421052631579, total=   0.0s\n",
      "[CV] C=10, gamma=1, kernel=rbf .......................................\n",
      "[CV]  C=10, gamma=1, kernel=rbf, score=0.9605263157894737, total=   0.0s\n",
      "[CV] C=10, gamma=1, kernel=rbf .......................................\n",
      "[CV]  C=10, gamma=1, kernel=rbf, score=0.9735099337748344, total=   0.0s\n",
      "[CV] C=10, gamma=0.1, kernel=rbf .....................................\n",
      "[CV]  C=10, gamma=0.1, kernel=rbf, score=0.993421052631579, total=   0.0s\n",
      "[CV] C=10, gamma=0.1, kernel=rbf .....................................\n",
      "[CV]  C=10, gamma=0.1, kernel=rbf, score=0.9671052631578947, total=   0.0s\n",
      "[CV] C=10, gamma=0.1, kernel=rbf .....................................\n",
      "[CV]  C=10, gamma=0.1, kernel=rbf, score=0.9735099337748344, total=   0.0s\n",
      "[CV] C=10, gamma=0.01, kernel=rbf ....................................\n",
      "[CV]  C=10, gamma=0.01, kernel=rbf, score=0.9736842105263158, total=   0.0s\n",
      "[CV] C=10, gamma=0.01, kernel=rbf ....................................\n",
      "[CV]  C=10, gamma=0.01, kernel=rbf, score=0.9210526315789473, total=   0.0s\n",
      "[CV] C=10, gamma=0.01, kernel=rbf ....................................\n",
      "[CV]  C=10, gamma=0.01, kernel=rbf, score=0.9403973509933775, total=   0.0s\n",
      "[CV] C=10, gamma=0.001, kernel=rbf ...................................\n",
      "[CV]  C=10, gamma=0.001, kernel=rbf, score=0.9144736842105263, total=   0.0s\n",
      "[CV] C=10, gamma=0.001, kernel=rbf ...................................\n",
      "[CV]  C=10, gamma=0.001, kernel=rbf, score=0.8947368421052632, total=   0.0s\n",
      "[CV] C=10, gamma=0.001, kernel=rbf ...................................\n",
      "[CV]  C=10, gamma=0.001, kernel=rbf, score=0.8675496688741722, total=   0.0s\n",
      "[CV] C=100, gamma=1, kernel=rbf ......................................\n",
      "[CV]  C=100, gamma=1, kernel=rbf, score=0.9605263157894737, total=   0.0s\n",
      "[CV] C=100, gamma=1, kernel=rbf ......................................\n",
      "[CV]  C=100, gamma=1, kernel=rbf, score=0.9539473684210527, total=   0.0s\n",
      "[CV] C=100, gamma=1, kernel=rbf ......................................\n",
      "[CV]  C=100, gamma=1, kernel=rbf, score=0.9801324503311258, total=   0.0s\n",
      "[CV] C=100, gamma=0.1, kernel=rbf ....................................\n",
      "[CV]  C=100, gamma=0.1, kernel=rbf, score=0.9868421052631579, total=   0.0s\n",
      "[CV] C=100, gamma=0.1, kernel=rbf ....................................\n",
      "[CV]  C=100, gamma=0.1, kernel=rbf, score=0.9539473684210527, total=   0.0s\n",
      "[CV] C=100, gamma=0.1, kernel=rbf ....................................\n",
      "[CV]  C=100, gamma=0.1, kernel=rbf, score=0.9801324503311258, total=   0.0s\n",
      "[CV] C=100, gamma=0.01, kernel=rbf ...................................\n",
      "[CV]  C=100, gamma=0.01, kernel=rbf, score=0.993421052631579, total=   0.0s\n",
      "[CV] C=100, gamma=0.01, kernel=rbf ...................................\n",
      "[CV]  C=100, gamma=0.01, kernel=rbf, score=0.9671052631578947, total=   0.0s\n",
      "[CV] C=100, gamma=0.01, kernel=rbf ...................................\n",
      "[CV]  C=100, gamma=0.01, kernel=rbf, score=0.9735099337748344, total=   0.0s\n",
      "[CV] C=100, gamma=0.001, kernel=rbf ..................................\n",
      "[CV]  C=100, gamma=0.001, kernel=rbf, score=0.9736842105263158, total=   0.0s\n",
      "[CV] C=100, gamma=0.001, kernel=rbf ..................................\n",
      "[CV]  C=100, gamma=0.001, kernel=rbf, score=0.9210526315789473, total=   0.0s\n",
      "[CV] C=100, gamma=0.001, kernel=rbf ..................................\n",
      "[CV]  C=100, gamma=0.001, kernel=rbf, score=0.9403973509933775, total=   0.0s\n"
     ]
    },
    {
     "name": "stderr",
     "output_type": "stream",
     "text": [
      "[Parallel(n_jobs=1)]: Done  48 out of  48 | elapsed:    0.8s finished\n"
     ]
    },
    {
     "data": {
      "text/plain": [
       "GridSearchCV(cv=None, error_score='raise',\n",
       "       estimator=SVC(C=1.0, cache_size=200, class_weight=None, coef0=0.0,\n",
       "  decision_function_shape='ovr', degree=3, gamma='auto', kernel='rbf',\n",
       "  max_iter=-1, probability=False, random_state=None, shrinking=True,\n",
       "  tol=0.001, verbose=False),\n",
       "       fit_params=None, iid=True, n_jobs=1,\n",
       "       param_grid={'C': [0.1, 1, 10, 100], 'gamma': [1, 0.1, 0.01, 0.001], 'kernel': ['rbf']},\n",
       "       pre_dispatch='2*n_jobs', refit=True, return_train_score='warn',\n",
       "       scoring=None, verbose=4)"
      ]
     },
     "execution_count": 68,
     "metadata": {},
     "output_type": "execute_result"
    }
   ],
   "source": [
    "grid.fit(X_train_scal, y_train)"
   ]
  },
  {
   "cell_type": "code",
   "execution_count": 69,
   "metadata": {},
   "outputs": [
    {
     "data": {
      "text/plain": [
       "{'C': 10, 'gamma': 0.1, 'kernel': 'rbf'}"
      ]
     },
     "execution_count": 69,
     "metadata": {},
     "output_type": "execute_result"
    }
   ],
   "source": [
    "grid.best_params_"
   ]
  },
  {
   "cell_type": "code",
   "execution_count": 58,
   "metadata": {},
   "outputs": [],
   "source": [
    "param_grid = {'C': [10, 20, 30, 40, 50, 60, 70, 80, 90, 100], 'gamma': [0.1, 0.2, 0.3, 0.4, 0.5, 0.6, 0.7, 0.8, 0.9, 1], 'kernel': ['rbf']} "
   ]
  },
  {
   "cell_type": "code",
   "execution_count": 59,
   "metadata": {},
   "outputs": [],
   "source": [
    "grid = GridSearchCV(SVC(), param_grid, refit = True, verbose = 4)"
   ]
  },
  {
   "cell_type": "code",
   "execution_count": 60,
   "metadata": {},
   "outputs": [
    {
     "name": "stdout",
     "output_type": "stream",
     "text": [
      "Fitting 3 folds for each of 100 candidates, totalling 300 fits\n",
      "[CV] C=10, gamma=0.1, kernel=rbf .....................................\n",
      "[CV]  C=10, gamma=0.1, kernel=rbf, score=0.993421052631579, total=   0.0s\n",
      "[CV] C=10, gamma=0.1, kernel=rbf .....................................\n",
      "[CV]  C=10, gamma=0.1, kernel=rbf, score=0.9671052631578947, total=   0.0s\n",
      "[CV] C=10, gamma=0.1, kernel=rbf .....................................\n",
      "[CV]  C=10, gamma=0.1, kernel=rbf, score=0.9735099337748344, total=   0.0s\n",
      "[CV] C=10, gamma=0.2, kernel=rbf .....................................\n",
      "[CV]  C=10, gamma=0.2, kernel=rbf, score=0.993421052631579, total=   0.0s\n",
      "[CV] C=10, gamma=0.2, kernel=rbf .....................................\n",
      "[CV]  C=10, gamma=0.2, kernel=rbf, score=0.9736842105263158, total=   0.0s\n",
      "[CV] C=10, gamma=0.2, kernel=rbf .....................................\n",
      "[CV]  C=10, gamma=0.2, kernel=rbf, score=0.9668874172185431, total=   0.0s\n",
      "[CV] C=10, gamma=0.3, kernel=rbf .....................................\n",
      "[CV]  C=10, gamma=0.3, kernel=rbf, score=0.993421052631579, total=   0.0s\n",
      "[CV] C=10, gamma=0.3, kernel=rbf .....................................\n",
      "[CV]  C=10, gamma=0.3, kernel=rbf, score=0.9671052631578947, total=   0.0s\n",
      "[CV] C=10, gamma=0.3, kernel=rbf .....................................\n",
      "[CV]  C=10, gamma=0.3, kernel=rbf, score=0.9867549668874173, total=   0.0s\n",
      "[CV] C=10, gamma=0.4, kernel=rbf .....................................\n",
      "[CV]  C=10, gamma=0.4, kernel=rbf, score=0.993421052631579, total=   0.0s\n",
      "[CV] C=10, gamma=0.4, kernel=rbf .....................................\n",
      "[CV]  C=10, gamma=0.4, kernel=rbf, score=0.9671052631578947, total=   0.0s\n",
      "[CV] C=10, gamma=0.4, kernel=rbf .....................................\n",
      "[CV]  C=10, gamma=0.4, kernel=rbf, score=0.9735099337748344, total=   0.0s\n",
      "[CV] C=10, gamma=0.5, kernel=rbf .....................................\n",
      "[CV]  C=10, gamma=0.5, kernel=rbf, score=0.993421052631579, total=   0.0s\n",
      "[CV] C=10, gamma=0.5, kernel=rbf .....................................\n",
      "[CV]  C=10, gamma=0.5, kernel=rbf, score=0.9605263157894737, total=   0.0s\n",
      "[CV] C=10, gamma=0.5, kernel=rbf .....................................\n",
      "[CV]  C=10, gamma=0.5, kernel=rbf, score=0.9801324503311258, total=   0.0s\n",
      "[CV] C=10, gamma=0.6, kernel=rbf .....................................\n",
      "[CV]  C=10, gamma=0.6, kernel=rbf, score=0.993421052631579, total=   0.0s\n",
      "[CV] C=10, gamma=0.6, kernel=rbf .....................................\n",
      "[CV]  C=10, gamma=0.6, kernel=rbf, score=0.9605263157894737, total=   0.0s\n",
      "[CV] C=10, gamma=0.6, kernel=rbf .....................................\n"
     ]
    },
    {
     "name": "stderr",
     "output_type": "stream",
     "text": [
      "[Parallel(n_jobs=1)]: Done   1 out of   1 | elapsed:    0.0s remaining:    0.0s\n",
      "[Parallel(n_jobs=1)]: Done   2 out of   2 | elapsed:    0.0s remaining:    0.0s\n",
      "[Parallel(n_jobs=1)]: Done   3 out of   3 | elapsed:    0.0s remaining:    0.0s\n"
     ]
    },
    {
     "name": "stdout",
     "output_type": "stream",
     "text": [
      "[CV]  C=10, gamma=0.6, kernel=rbf, score=0.9801324503311258, total=   0.0s\n",
      "[CV] C=10, gamma=0.7, kernel=rbf .....................................\n",
      "[CV]  C=10, gamma=0.7, kernel=rbf, score=0.993421052631579, total=   0.0s\n",
      "[CV] C=10, gamma=0.7, kernel=rbf .....................................\n",
      "[CV]  C=10, gamma=0.7, kernel=rbf, score=0.9605263157894737, total=   0.0s\n",
      "[CV] C=10, gamma=0.7, kernel=rbf .....................................\n",
      "[CV]  C=10, gamma=0.7, kernel=rbf, score=0.9801324503311258, total=   0.0s\n",
      "[CV] C=10, gamma=0.8, kernel=rbf .....................................\n",
      "[CV]  C=10, gamma=0.8, kernel=rbf, score=0.993421052631579, total=   0.0s\n",
      "[CV] C=10, gamma=0.8, kernel=rbf .....................................\n",
      "[CV]  C=10, gamma=0.8, kernel=rbf, score=0.9605263157894737, total=   0.0s\n",
      "[CV] C=10, gamma=0.8, kernel=rbf .....................................\n",
      "[CV]  C=10, gamma=0.8, kernel=rbf, score=0.9735099337748344, total=   0.0s\n",
      "[CV] C=10, gamma=0.9, kernel=rbf .....................................\n",
      "[CV]  C=10, gamma=0.9, kernel=rbf, score=0.993421052631579, total=   0.0s\n",
      "[CV] C=10, gamma=0.9, kernel=rbf .....................................\n",
      "[CV]  C=10, gamma=0.9, kernel=rbf, score=0.9605263157894737, total=   0.0s\n",
      "[CV] C=10, gamma=0.9, kernel=rbf .....................................\n",
      "[CV]  C=10, gamma=0.9, kernel=rbf, score=0.9735099337748344, total=   0.0s\n",
      "[CV] C=10, gamma=1, kernel=rbf .......................................\n",
      "[CV]  C=10, gamma=1, kernel=rbf, score=0.993421052631579, total=   0.0s\n",
      "[CV] C=10, gamma=1, kernel=rbf .......................................\n",
      "[CV]  C=10, gamma=1, kernel=rbf, score=0.9605263157894737, total=   0.0s\n",
      "[CV] C=10, gamma=1, kernel=rbf .......................................\n",
      "[CV]  C=10, gamma=1, kernel=rbf, score=0.9735099337748344, total=   0.0s\n",
      "[CV] C=20, gamma=0.1, kernel=rbf .....................................\n",
      "[CV]  C=20, gamma=0.1, kernel=rbf, score=0.993421052631579, total=   0.0s\n",
      "[CV] C=20, gamma=0.1, kernel=rbf .....................................\n",
      "[CV]  C=20, gamma=0.1, kernel=rbf, score=0.9671052631578947, total=   0.0s\n",
      "[CV] C=20, gamma=0.1, kernel=rbf .....................................\n",
      "[CV]  C=20, gamma=0.1, kernel=rbf, score=0.9668874172185431, total=   0.0s\n",
      "[CV] C=20, gamma=0.2, kernel=rbf .....................................\n",
      "[CV]  C=20, gamma=0.2, kernel=rbf, score=0.993421052631579, total=   0.0s\n",
      "[CV] C=20, gamma=0.2, kernel=rbf .....................................\n",
      "[CV]  C=20, gamma=0.2, kernel=rbf, score=0.9671052631578947, total=   0.0s\n",
      "[CV] C=20, gamma=0.2, kernel=rbf .....................................\n",
      "[CV]  C=20, gamma=0.2, kernel=rbf, score=0.9867549668874173, total=   0.0s\n",
      "[CV] C=20, gamma=0.3, kernel=rbf .....................................\n",
      "[CV]  C=20, gamma=0.3, kernel=rbf, score=0.993421052631579, total=   0.0s\n",
      "[CV] C=20, gamma=0.3, kernel=rbf .....................................\n",
      "[CV]  C=20, gamma=0.3, kernel=rbf, score=0.9671052631578947, total=   0.0s\n",
      "[CV] C=20, gamma=0.3, kernel=rbf .....................................\n",
      "[CV]  C=20, gamma=0.3, kernel=rbf, score=0.9735099337748344, total=   0.0s\n",
      "[CV] C=20, gamma=0.4, kernel=rbf .....................................\n",
      "[CV]  C=20, gamma=0.4, kernel=rbf, score=0.993421052631579, total=   0.0s\n",
      "[CV] C=20, gamma=0.4, kernel=rbf .....................................\n",
      "[CV]  C=20, gamma=0.4, kernel=rbf, score=0.9671052631578947, total=   0.0s\n",
      "[CV] C=20, gamma=0.4, kernel=rbf .....................................\n",
      "[CV]  C=20, gamma=0.4, kernel=rbf, score=0.9735099337748344, total=   0.0s\n",
      "[CV] C=20, gamma=0.5, kernel=rbf .....................................\n",
      "[CV]  C=20, gamma=0.5, kernel=rbf, score=0.993421052631579, total=   0.0s\n",
      "[CV] C=20, gamma=0.5, kernel=rbf .....................................\n",
      "[CV]  C=20, gamma=0.5, kernel=rbf, score=0.9605263157894737, total=   0.0s\n",
      "[CV] C=20, gamma=0.5, kernel=rbf .....................................\n",
      "[CV]  C=20, gamma=0.5, kernel=rbf, score=0.9668874172185431, total=   0.0s\n",
      "[CV] C=20, gamma=0.6, kernel=rbf .....................................\n",
      "[CV]  C=20, gamma=0.6, kernel=rbf, score=0.993421052631579, total=   0.0s\n",
      "[CV] C=20, gamma=0.6, kernel=rbf .....................................\n",
      "[CV]  C=20, gamma=0.6, kernel=rbf, score=0.9605263157894737, total=   0.0s\n",
      "[CV] C=20, gamma=0.6, kernel=rbf .....................................\n",
      "[CV]  C=20, gamma=0.6, kernel=rbf, score=0.9735099337748344, total=   0.0s\n",
      "[CV] C=20, gamma=0.7, kernel=rbf .....................................\n",
      "[CV]  C=20, gamma=0.7, kernel=rbf, score=0.9868421052631579, total=   0.0s\n",
      "[CV] C=20, gamma=0.7, kernel=rbf .....................................\n",
      "[CV]  C=20, gamma=0.7, kernel=rbf, score=0.9671052631578947, total=   0.0s\n",
      "[CV] C=20, gamma=0.7, kernel=rbf .....................................\n",
      "[CV]  C=20, gamma=0.7, kernel=rbf, score=0.9735099337748344, total=   0.0s\n",
      "[CV] C=20, gamma=0.8, kernel=rbf .....................................\n",
      "[CV]  C=20, gamma=0.8, kernel=rbf, score=0.9868421052631579, total=   0.0s\n",
      "[CV] C=20, gamma=0.8, kernel=rbf .....................................\n",
      "[CV]  C=20, gamma=0.8, kernel=rbf, score=0.9671052631578947, total=   0.0s\n",
      "[CV] C=20, gamma=0.8, kernel=rbf .....................................\n",
      "[CV]  C=20, gamma=0.8, kernel=rbf, score=0.9735099337748344, total=   0.0s\n",
      "[CV] C=20, gamma=0.9, kernel=rbf .....................................\n",
      "[CV]  C=20, gamma=0.9, kernel=rbf, score=0.9802631578947368, total=   0.0s\n",
      "[CV] C=20, gamma=0.9, kernel=rbf .....................................\n",
      "[CV]  C=20, gamma=0.9, kernel=rbf, score=0.9671052631578947, total=   0.0s\n",
      "[CV] C=20, gamma=0.9, kernel=rbf .....................................\n",
      "[CV]  C=20, gamma=0.9, kernel=rbf, score=0.9735099337748344, total=   0.0s\n",
      "[CV] C=20, gamma=1, kernel=rbf .......................................\n",
      "[CV]  C=20, gamma=1, kernel=rbf, score=0.9736842105263158, total=   0.0s\n",
      "[CV] C=20, gamma=1, kernel=rbf .......................................\n",
      "[CV]  C=20, gamma=1, kernel=rbf, score=0.9671052631578947, total=   0.0s\n",
      "[CV] C=20, gamma=1, kernel=rbf .......................................\n",
      "[CV]  C=20, gamma=1, kernel=rbf, score=0.9801324503311258, total=   0.0s\n",
      "[CV] C=30, gamma=0.1, kernel=rbf .....................................\n",
      "[CV]  C=30, gamma=0.1, kernel=rbf, score=0.993421052631579, total=   0.0s\n",
      "[CV] C=30, gamma=0.1, kernel=rbf .....................................\n",
      "[CV]  C=30, gamma=0.1, kernel=rbf, score=0.9605263157894737, total=   0.0s\n",
      "[CV] C=30, gamma=0.1, kernel=rbf .....................................\n",
      "[CV]  C=30, gamma=0.1, kernel=rbf, score=0.9735099337748344, total=   0.0s\n",
      "[CV] C=30, gamma=0.2, kernel=rbf .....................................\n",
      "[CV]  C=30, gamma=0.2, kernel=rbf, score=0.993421052631579, total=   0.0s\n",
      "[CV] C=30, gamma=0.2, kernel=rbf .....................................\n",
      "[CV]  C=30, gamma=0.2, kernel=rbf, score=0.9605263157894737, total=   0.0s\n",
      "[CV] C=30, gamma=0.2, kernel=rbf .....................................\n",
      "[CV]  C=30, gamma=0.2, kernel=rbf, score=0.9801324503311258, total=   0.0s\n",
      "[CV] C=30, gamma=0.3, kernel=rbf .....................................\n",
      "[CV]  C=30, gamma=0.3, kernel=rbf, score=0.993421052631579, total=   0.0s\n",
      "[CV] C=30, gamma=0.3, kernel=rbf .....................................\n",
      "[CV]  C=30, gamma=0.3, kernel=rbf, score=0.9605263157894737, total=   0.0s\n",
      "[CV] C=30, gamma=0.3, kernel=rbf .....................................\n",
      "[CV]  C=30, gamma=0.3, kernel=rbf, score=0.9735099337748344, total=   0.0s\n",
      "[CV] C=30, gamma=0.4, kernel=rbf .....................................\n",
      "[CV]  C=30, gamma=0.4, kernel=rbf, score=0.993421052631579, total=   0.0s\n",
      "[CV] C=30, gamma=0.4, kernel=rbf .....................................\n",
      "[CV]  C=30, gamma=0.4, kernel=rbf, score=0.9671052631578947, total=   0.0s\n",
      "[CV] C=30, gamma=0.4, kernel=rbf .....................................\n",
      "[CV]  C=30, gamma=0.4, kernel=rbf, score=0.9668874172185431, total=   0.0s\n",
      "[CV] C=30, gamma=0.5, kernel=rbf .....................................\n",
      "[CV]  C=30, gamma=0.5, kernel=rbf, score=0.9868421052631579, total=   0.0s\n",
      "[CV] C=30, gamma=0.5, kernel=rbf .....................................\n",
      "[CV]  C=30, gamma=0.5, kernel=rbf, score=0.9671052631578947, total=   0.0s\n",
      "[CV] C=30, gamma=0.5, kernel=rbf .....................................\n",
      "[CV]  C=30, gamma=0.5, kernel=rbf, score=0.9735099337748344, total=   0.0s\n",
      "[CV] C=30, gamma=0.6, kernel=rbf .....................................\n",
      "[CV]  C=30, gamma=0.6, kernel=rbf, score=0.9802631578947368, total=   0.0s\n",
      "[CV] C=30, gamma=0.6, kernel=rbf .....................................\n"
     ]
    },
    {
     "name": "stdout",
     "output_type": "stream",
     "text": [
      "[CV]  C=30, gamma=0.6, kernel=rbf, score=0.9671052631578947, total=   0.0s\n",
      "[CV] C=30, gamma=0.6, kernel=rbf .....................................\n",
      "[CV]  C=30, gamma=0.6, kernel=rbf, score=0.9735099337748344, total=   0.0s\n",
      "[CV] C=30, gamma=0.7, kernel=rbf .....................................\n",
      "[CV]  C=30, gamma=0.7, kernel=rbf, score=0.9802631578947368, total=   0.0s\n",
      "[CV] C=30, gamma=0.7, kernel=rbf .....................................\n",
      "[CV]  C=30, gamma=0.7, kernel=rbf, score=0.9605263157894737, total=   0.0s\n",
      "[CV] C=30, gamma=0.7, kernel=rbf .....................................\n",
      "[CV]  C=30, gamma=0.7, kernel=rbf, score=0.9735099337748344, total=   0.0s\n",
      "[CV] C=30, gamma=0.8, kernel=rbf .....................................\n",
      "[CV]  C=30, gamma=0.8, kernel=rbf, score=0.9736842105263158, total=   0.0s\n",
      "[CV] C=30, gamma=0.8, kernel=rbf .....................................\n",
      "[CV]  C=30, gamma=0.8, kernel=rbf, score=0.9671052631578947, total=   0.0s\n",
      "[CV] C=30, gamma=0.8, kernel=rbf .....................................\n",
      "[CV]  C=30, gamma=0.8, kernel=rbf, score=0.9801324503311258, total=   0.0s\n",
      "[CV] C=30, gamma=0.9, kernel=rbf .....................................\n",
      "[CV]  C=30, gamma=0.9, kernel=rbf, score=0.9736842105263158, total=   0.0s\n",
      "[CV] C=30, gamma=0.9, kernel=rbf .....................................\n",
      "[CV]  C=30, gamma=0.9, kernel=rbf, score=0.9605263157894737, total=   0.0s\n",
      "[CV] C=30, gamma=0.9, kernel=rbf .....................................\n",
      "[CV]  C=30, gamma=0.9, kernel=rbf, score=0.9801324503311258, total=   0.0s\n",
      "[CV] C=30, gamma=1, kernel=rbf .......................................\n",
      "[CV]  C=30, gamma=1, kernel=rbf, score=0.9736842105263158, total=   0.0s\n",
      "[CV] C=30, gamma=1, kernel=rbf .......................................\n",
      "[CV]  C=30, gamma=1, kernel=rbf, score=0.9605263157894737, total=   0.0s\n",
      "[CV] C=30, gamma=1, kernel=rbf .......................................\n",
      "[CV]  C=30, gamma=1, kernel=rbf, score=0.9801324503311258, total=   0.0s\n",
      "[CV] C=40, gamma=0.1, kernel=rbf .....................................\n",
      "[CV]  C=40, gamma=0.1, kernel=rbf, score=0.993421052631579, total=   0.0s\n",
      "[CV] C=40, gamma=0.1, kernel=rbf .....................................\n",
      "[CV]  C=40, gamma=0.1, kernel=rbf, score=0.9605263157894737, total=   0.0s\n",
      "[CV] C=40, gamma=0.1, kernel=rbf .....................................\n",
      "[CV]  C=40, gamma=0.1, kernel=rbf, score=0.9801324503311258, total=   0.0s\n",
      "[CV] C=40, gamma=0.2, kernel=rbf .....................................\n",
      "[CV]  C=40, gamma=0.2, kernel=rbf, score=0.993421052631579, total=   0.0s\n",
      "[CV] C=40, gamma=0.2, kernel=rbf .....................................\n",
      "[CV]  C=40, gamma=0.2, kernel=rbf, score=0.9605263157894737, total=   0.0s\n",
      "[CV] C=40, gamma=0.2, kernel=rbf .....................................\n",
      "[CV]  C=40, gamma=0.2, kernel=rbf, score=0.9801324503311258, total=   0.0s\n",
      "[CV] C=40, gamma=0.3, kernel=rbf .....................................\n",
      "[CV]  C=40, gamma=0.3, kernel=rbf, score=0.993421052631579, total=   0.0s\n",
      "[CV] C=40, gamma=0.3, kernel=rbf .....................................\n",
      "[CV]  C=40, gamma=0.3, kernel=rbf, score=0.9605263157894737, total=   0.0s\n",
      "[CV] C=40, gamma=0.3, kernel=rbf .....................................\n",
      "[CV]  C=40, gamma=0.3, kernel=rbf, score=0.9668874172185431, total=   0.0s\n",
      "[CV] C=40, gamma=0.4, kernel=rbf .....................................\n",
      "[CV]  C=40, gamma=0.4, kernel=rbf, score=0.9868421052631579, total=   0.0s\n",
      "[CV] C=40, gamma=0.4, kernel=rbf .....................................\n",
      "[CV]  C=40, gamma=0.4, kernel=rbf, score=0.9605263157894737, total=   0.0s\n",
      "[CV] C=40, gamma=0.4, kernel=rbf .....................................\n",
      "[CV]  C=40, gamma=0.4, kernel=rbf, score=0.9668874172185431, total=   0.0s\n",
      "[CV] C=40, gamma=0.5, kernel=rbf .....................................\n",
      "[CV]  C=40, gamma=0.5, kernel=rbf, score=0.9802631578947368, total=   0.0s\n",
      "[CV] C=40, gamma=0.5, kernel=rbf .....................................\n",
      "[CV]  C=40, gamma=0.5, kernel=rbf, score=0.9605263157894737, total=   0.0s\n",
      "[CV] C=40, gamma=0.5, kernel=rbf .....................................\n",
      "[CV]  C=40, gamma=0.5, kernel=rbf, score=0.9735099337748344, total=   0.0s\n",
      "[CV] C=40, gamma=0.6, kernel=rbf .....................................\n",
      "[CV]  C=40, gamma=0.6, kernel=rbf, score=0.9802631578947368, total=   0.0s\n",
      "[CV] C=40, gamma=0.6, kernel=rbf .....................................\n",
      "[CV]  C=40, gamma=0.6, kernel=rbf, score=0.9605263157894737, total=   0.0s\n",
      "[CV] C=40, gamma=0.6, kernel=rbf .....................................\n",
      "[CV]  C=40, gamma=0.6, kernel=rbf, score=0.9735099337748344, total=   0.0s\n",
      "[CV] C=40, gamma=0.7, kernel=rbf .....................................\n",
      "[CV]  C=40, gamma=0.7, kernel=rbf, score=0.9736842105263158, total=   0.0s\n",
      "[CV] C=40, gamma=0.7, kernel=rbf .....................................\n",
      "[CV]  C=40, gamma=0.7, kernel=rbf, score=0.9671052631578947, total=   0.0s\n",
      "[CV] C=40, gamma=0.7, kernel=rbf .....................................\n",
      "[CV]  C=40, gamma=0.7, kernel=rbf, score=0.9801324503311258, total=   0.0s\n",
      "[CV] C=40, gamma=0.8, kernel=rbf .....................................\n",
      "[CV]  C=40, gamma=0.8, kernel=rbf, score=0.9736842105263158, total=   0.0s\n",
      "[CV] C=40, gamma=0.8, kernel=rbf .....................................\n",
      "[CV]  C=40, gamma=0.8, kernel=rbf, score=0.9605263157894737, total=   0.0s\n",
      "[CV] C=40, gamma=0.8, kernel=rbf .....................................\n",
      "[CV]  C=40, gamma=0.8, kernel=rbf, score=0.9801324503311258, total=   0.0s\n",
      "[CV] C=40, gamma=0.9, kernel=rbf .....................................\n",
      "[CV]  C=40, gamma=0.9, kernel=rbf, score=0.9736842105263158, total=   0.0s\n",
      "[CV] C=40, gamma=0.9, kernel=rbf .....................................\n",
      "[CV]  C=40, gamma=0.9, kernel=rbf, score=0.9605263157894737, total=   0.0s\n",
      "[CV] C=40, gamma=0.9, kernel=rbf .....................................\n",
      "[CV]  C=40, gamma=0.9, kernel=rbf, score=0.9801324503311258, total=   0.0s\n",
      "[CV] C=40, gamma=1, kernel=rbf .......................................\n",
      "[CV]  C=40, gamma=1, kernel=rbf, score=0.9671052631578947, total=   0.0s\n",
      "[CV] C=40, gamma=1, kernel=rbf .......................................\n",
      "[CV]  C=40, gamma=1, kernel=rbf, score=0.9605263157894737, total=   0.0s\n",
      "[CV] C=40, gamma=1, kernel=rbf .......................................\n",
      "[CV]  C=40, gamma=1, kernel=rbf, score=0.9801324503311258, total=   0.0s\n",
      "[CV] C=50, gamma=0.1, kernel=rbf .....................................\n",
      "[CV]  C=50, gamma=0.1, kernel=rbf, score=0.993421052631579, total=   0.0s\n",
      "[CV] C=50, gamma=0.1, kernel=rbf .....................................\n",
      "[CV]  C=50, gamma=0.1, kernel=rbf, score=0.9539473684210527, total=   0.0s\n",
      "[CV] C=50, gamma=0.1, kernel=rbf .....................................\n",
      "[CV]  C=50, gamma=0.1, kernel=rbf, score=0.9801324503311258, total=   0.0s\n",
      "[CV] C=50, gamma=0.2, kernel=rbf .....................................\n",
      "[CV]  C=50, gamma=0.2, kernel=rbf, score=0.993421052631579, total=   0.0s\n",
      "[CV] C=50, gamma=0.2, kernel=rbf .....................................\n",
      "[CV]  C=50, gamma=0.2, kernel=rbf, score=0.9605263157894737, total=   0.0s\n",
      "[CV] C=50, gamma=0.2, kernel=rbf .....................................\n",
      "[CV]  C=50, gamma=0.2, kernel=rbf, score=0.9735099337748344, total=   0.0s\n",
      "[CV] C=50, gamma=0.3, kernel=rbf .....................................\n",
      "[CV]  C=50, gamma=0.3, kernel=rbf, score=0.993421052631579, total=   0.0s\n",
      "[CV] C=50, gamma=0.3, kernel=rbf .....................................\n",
      "[CV]  C=50, gamma=0.3, kernel=rbf, score=0.9605263157894737, total=   0.0s\n",
      "[CV] C=50, gamma=0.3, kernel=rbf .....................................\n",
      "[CV]  C=50, gamma=0.3, kernel=rbf, score=0.9668874172185431, total=   0.0s\n",
      "[CV] C=50, gamma=0.4, kernel=rbf .....................................\n",
      "[CV]  C=50, gamma=0.4, kernel=rbf, score=0.993421052631579, total=   0.0s\n",
      "[CV] C=50, gamma=0.4, kernel=rbf .....................................\n",
      "[CV]  C=50, gamma=0.4, kernel=rbf, score=0.9605263157894737, total=   0.0s\n",
      "[CV] C=50, gamma=0.4, kernel=rbf .....................................\n",
      "[CV]  C=50, gamma=0.4, kernel=rbf, score=0.9735099337748344, total=   0.0s\n",
      "[CV] C=50, gamma=0.5, kernel=rbf .....................................\n",
      "[CV]  C=50, gamma=0.5, kernel=rbf, score=0.9802631578947368, total=   0.0s\n",
      "[CV] C=50, gamma=0.5, kernel=rbf .....................................\n",
      "[CV]  C=50, gamma=0.5, kernel=rbf, score=0.9539473684210527, total=   0.0s\n",
      "[CV] C=50, gamma=0.5, kernel=rbf .....................................\n",
      "[CV]  C=50, gamma=0.5, kernel=rbf, score=0.9735099337748344, total=   0.0s\n",
      "[CV] C=50, gamma=0.6, kernel=rbf .....................................\n",
      "[CV]  C=50, gamma=0.6, kernel=rbf, score=0.9736842105263158, total=   0.0s\n",
      "[CV] C=50, gamma=0.6, kernel=rbf .....................................\n",
      "[CV]  C=50, gamma=0.6, kernel=rbf, score=0.9671052631578947, total=   0.0s\n",
      "[CV] C=50, gamma=0.6, kernel=rbf .....................................\n",
      "[CV]  C=50, gamma=0.6, kernel=rbf, score=0.9801324503311258, total=   0.0s\n",
      "[CV] C=50, gamma=0.7, kernel=rbf .....................................\n",
      "[CV]  C=50, gamma=0.7, kernel=rbf, score=0.9736842105263158, total=   0.0s\n",
      "[CV] C=50, gamma=0.7, kernel=rbf .....................................\n"
     ]
    },
    {
     "name": "stdout",
     "output_type": "stream",
     "text": [
      "[CV]  C=50, gamma=0.7, kernel=rbf, score=0.9671052631578947, total=   0.0s\n",
      "[CV] C=50, gamma=0.7, kernel=rbf .....................................\n",
      "[CV]  C=50, gamma=0.7, kernel=rbf, score=0.9801324503311258, total=   0.0s\n",
      "[CV] C=50, gamma=0.8, kernel=rbf .....................................\n",
      "[CV]  C=50, gamma=0.8, kernel=rbf, score=0.9736842105263158, total=   0.0s\n",
      "[CV] C=50, gamma=0.8, kernel=rbf .....................................\n",
      "[CV]  C=50, gamma=0.8, kernel=rbf, score=0.9605263157894737, total=   0.0s\n",
      "[CV] C=50, gamma=0.8, kernel=rbf .....................................\n",
      "[CV]  C=50, gamma=0.8, kernel=rbf, score=0.9801324503311258, total=   0.0s\n",
      "[CV] C=50, gamma=0.9, kernel=rbf .....................................\n",
      "[CV]  C=50, gamma=0.9, kernel=rbf, score=0.9605263157894737, total=   0.0s\n",
      "[CV] C=50, gamma=0.9, kernel=rbf .....................................\n",
      "[CV]  C=50, gamma=0.9, kernel=rbf, score=0.9605263157894737, total=   0.0s\n",
      "[CV] C=50, gamma=0.9, kernel=rbf .....................................\n",
      "[CV]  C=50, gamma=0.9, kernel=rbf, score=0.9801324503311258, total=   0.0s\n",
      "[CV] C=50, gamma=1, kernel=rbf .......................................\n",
      "[CV]  C=50, gamma=1, kernel=rbf, score=0.9605263157894737, total=   0.0s\n",
      "[CV] C=50, gamma=1, kernel=rbf .......................................\n",
      "[CV]  C=50, gamma=1, kernel=rbf, score=0.9605263157894737, total=   0.0s\n",
      "[CV] C=50, gamma=1, kernel=rbf .......................................\n",
      "[CV]  C=50, gamma=1, kernel=rbf, score=0.9801324503311258, total=   0.0s\n",
      "[CV] C=60, gamma=0.1, kernel=rbf .....................................\n",
      "[CV]  C=60, gamma=0.1, kernel=rbf, score=0.993421052631579, total=   0.0s\n",
      "[CV] C=60, gamma=0.1, kernel=rbf .....................................\n",
      "[CV]  C=60, gamma=0.1, kernel=rbf, score=0.9539473684210527, total=   0.0s\n",
      "[CV] C=60, gamma=0.1, kernel=rbf .....................................\n",
      "[CV]  C=60, gamma=0.1, kernel=rbf, score=0.9735099337748344, total=   0.0s\n",
      "[CV] C=60, gamma=0.2, kernel=rbf .....................................\n",
      "[CV]  C=60, gamma=0.2, kernel=rbf, score=0.993421052631579, total=   0.0s\n",
      "[CV] C=60, gamma=0.2, kernel=rbf .....................................\n",
      "[CV]  C=60, gamma=0.2, kernel=rbf, score=0.9539473684210527, total=   0.0s\n",
      "[CV] C=60, gamma=0.2, kernel=rbf .....................................\n",
      "[CV]  C=60, gamma=0.2, kernel=rbf, score=0.9867549668874173, total=   0.0s\n",
      "[CV] C=60, gamma=0.3, kernel=rbf .....................................\n",
      "[CV]  C=60, gamma=0.3, kernel=rbf, score=0.9868421052631579, total=   0.0s\n",
      "[CV] C=60, gamma=0.3, kernel=rbf .....................................\n",
      "[CV]  C=60, gamma=0.3, kernel=rbf, score=0.9605263157894737, total=   0.0s\n",
      "[CV] C=60, gamma=0.3, kernel=rbf .....................................\n",
      "[CV]  C=60, gamma=0.3, kernel=rbf, score=0.9735099337748344, total=   0.0s\n",
      "[CV] C=60, gamma=0.4, kernel=rbf .....................................\n",
      "[CV]  C=60, gamma=0.4, kernel=rbf, score=0.9868421052631579, total=   0.0s\n",
      "[CV] C=60, gamma=0.4, kernel=rbf .....................................\n",
      "[CV]  C=60, gamma=0.4, kernel=rbf, score=0.9605263157894737, total=   0.0s\n",
      "[CV] C=60, gamma=0.4, kernel=rbf .....................................\n",
      "[CV]  C=60, gamma=0.4, kernel=rbf, score=0.9801324503311258, total=   0.0s\n",
      "[CV] C=60, gamma=0.5, kernel=rbf .....................................\n",
      "[CV]  C=60, gamma=0.5, kernel=rbf, score=0.9736842105263158, total=   0.0s\n",
      "[CV] C=60, gamma=0.5, kernel=rbf .....................................\n",
      "[CV]  C=60, gamma=0.5, kernel=rbf, score=0.9605263157894737, total=   0.0s\n",
      "[CV] C=60, gamma=0.5, kernel=rbf .....................................\n",
      "[CV]  C=60, gamma=0.5, kernel=rbf, score=0.9801324503311258, total=   0.0s\n",
      "[CV] C=60, gamma=0.6, kernel=rbf .....................................\n",
      "[CV]  C=60, gamma=0.6, kernel=rbf, score=0.9736842105263158, total=   0.0s\n",
      "[CV] C=60, gamma=0.6, kernel=rbf .....................................\n",
      "[CV]  C=60, gamma=0.6, kernel=rbf, score=0.9671052631578947, total=   0.0s\n",
      "[CV] C=60, gamma=0.6, kernel=rbf .....................................\n",
      "[CV]  C=60, gamma=0.6, kernel=rbf, score=0.9801324503311258, total=   0.0s\n",
      "[CV] C=60, gamma=0.7, kernel=rbf .....................................\n",
      "[CV]  C=60, gamma=0.7, kernel=rbf, score=0.9736842105263158, total=   0.0s\n",
      "[CV] C=60, gamma=0.7, kernel=rbf .....................................\n",
      "[CV]  C=60, gamma=0.7, kernel=rbf, score=0.9671052631578947, total=   0.0s\n",
      "[CV] C=60, gamma=0.7, kernel=rbf .....................................\n",
      "[CV]  C=60, gamma=0.7, kernel=rbf, score=0.9801324503311258, total=   0.0s\n",
      "[CV] C=60, gamma=0.8, kernel=rbf .....................................\n",
      "[CV]  C=60, gamma=0.8, kernel=rbf, score=0.9605263157894737, total=   0.0s\n",
      "[CV] C=60, gamma=0.8, kernel=rbf .....................................\n",
      "[CV]  C=60, gamma=0.8, kernel=rbf, score=0.9671052631578947, total=   0.0s\n",
      "[CV] C=60, gamma=0.8, kernel=rbf .....................................\n",
      "[CV]  C=60, gamma=0.8, kernel=rbf, score=0.9801324503311258, total=   0.0s\n",
      "[CV] C=60, gamma=0.9, kernel=rbf .....................................\n",
      "[CV]  C=60, gamma=0.9, kernel=rbf, score=0.9605263157894737, total=   0.0s\n",
      "[CV] C=60, gamma=0.9, kernel=rbf .....................................\n",
      "[CV]  C=60, gamma=0.9, kernel=rbf, score=0.9539473684210527, total=   0.0s\n",
      "[CV] C=60, gamma=0.9, kernel=rbf .....................................\n",
      "[CV]  C=60, gamma=0.9, kernel=rbf, score=0.9801324503311258, total=   0.0s\n",
      "[CV] C=60, gamma=1, kernel=rbf .......................................\n",
      "[CV]  C=60, gamma=1, kernel=rbf, score=0.9605263157894737, total=   0.0s\n",
      "[CV] C=60, gamma=1, kernel=rbf .......................................\n",
      "[CV]  C=60, gamma=1, kernel=rbf, score=0.9539473684210527, total=   0.0s\n",
      "[CV] C=60, gamma=1, kernel=rbf .......................................\n",
      "[CV]  C=60, gamma=1, kernel=rbf, score=0.9801324503311258, total=   0.0s\n",
      "[CV] C=70, gamma=0.1, kernel=rbf .....................................\n",
      "[CV]  C=70, gamma=0.1, kernel=rbf, score=0.993421052631579, total=   0.0s\n",
      "[CV] C=70, gamma=0.1, kernel=rbf .....................................\n",
      "[CV]  C=70, gamma=0.1, kernel=rbf, score=0.9539473684210527, total=   0.0s\n",
      "[CV] C=70, gamma=0.1, kernel=rbf .....................................\n",
      "[CV]  C=70, gamma=0.1, kernel=rbf, score=0.9735099337748344, total=   0.0s\n",
      "[CV] C=70, gamma=0.2, kernel=rbf .....................................\n",
      "[CV]  C=70, gamma=0.2, kernel=rbf, score=0.993421052631579, total=   0.0s\n",
      "[CV] C=70, gamma=0.2, kernel=rbf .....................................\n",
      "[CV]  C=70, gamma=0.2, kernel=rbf, score=0.9539473684210527, total=   0.0s\n",
      "[CV] C=70, gamma=0.2, kernel=rbf .....................................\n",
      "[CV]  C=70, gamma=0.2, kernel=rbf, score=0.9735099337748344, total=   0.0s\n",
      "[CV] C=70, gamma=0.3, kernel=rbf .....................................\n",
      "[CV]  C=70, gamma=0.3, kernel=rbf, score=0.993421052631579, total=   0.0s\n",
      "[CV] C=70, gamma=0.3, kernel=rbf .....................................\n",
      "[CV]  C=70, gamma=0.3, kernel=rbf, score=0.9539473684210527, total=   0.0s\n",
      "[CV] C=70, gamma=0.3, kernel=rbf .....................................\n",
      "[CV]  C=70, gamma=0.3, kernel=rbf, score=0.9735099337748344, total=   0.0s\n",
      "[CV] C=70, gamma=0.4, kernel=rbf .....................................\n",
      "[CV]  C=70, gamma=0.4, kernel=rbf, score=0.9868421052631579, total=   0.0s\n",
      "[CV] C=70, gamma=0.4, kernel=rbf .....................................\n",
      "[CV]  C=70, gamma=0.4, kernel=rbf, score=0.9473684210526315, total=   0.0s\n",
      "[CV] C=70, gamma=0.4, kernel=rbf .....................................\n",
      "[CV]  C=70, gamma=0.4, kernel=rbf, score=0.9801324503311258, total=   0.0s\n",
      "[CV] C=70, gamma=0.5, kernel=rbf .....................................\n",
      "[CV]  C=70, gamma=0.5, kernel=rbf, score=0.9736842105263158, total=   0.0s\n",
      "[CV] C=70, gamma=0.5, kernel=rbf .....................................\n",
      "[CV]  C=70, gamma=0.5, kernel=rbf, score=0.9605263157894737, total=   0.0s\n",
      "[CV] C=70, gamma=0.5, kernel=rbf .....................................\n",
      "[CV]  C=70, gamma=0.5, kernel=rbf, score=0.9801324503311258, total=   0.0s\n",
      "[CV] C=70, gamma=0.6, kernel=rbf .....................................\n",
      "[CV]  C=70, gamma=0.6, kernel=rbf, score=0.9736842105263158, total=   0.0s\n",
      "[CV] C=70, gamma=0.6, kernel=rbf .....................................\n",
      "[CV]  C=70, gamma=0.6, kernel=rbf, score=0.9671052631578947, total=   0.0s\n"
     ]
    },
    {
     "name": "stdout",
     "output_type": "stream",
     "text": [
      "[CV] C=70, gamma=0.6, kernel=rbf .....................................\n",
      "[CV]  C=70, gamma=0.6, kernel=rbf, score=0.9801324503311258, total=   0.0s\n",
      "[CV] C=70, gamma=0.7, kernel=rbf .....................................\n",
      "[CV]  C=70, gamma=0.7, kernel=rbf, score=0.9605263157894737, total=   0.0s\n",
      "[CV] C=70, gamma=0.7, kernel=rbf .....................................\n",
      "[CV]  C=70, gamma=0.7, kernel=rbf, score=0.9671052631578947, total=   0.0s\n",
      "[CV] C=70, gamma=0.7, kernel=rbf .....................................\n",
      "[CV]  C=70, gamma=0.7, kernel=rbf, score=0.9801324503311258, total=   0.0s\n",
      "[CV] C=70, gamma=0.8, kernel=rbf .....................................\n",
      "[CV]  C=70, gamma=0.8, kernel=rbf, score=0.9605263157894737, total=   0.0s\n",
      "[CV] C=70, gamma=0.8, kernel=rbf .....................................\n",
      "[CV]  C=70, gamma=0.8, kernel=rbf, score=0.9671052631578947, total=   0.0s\n",
      "[CV] C=70, gamma=0.8, kernel=rbf .....................................\n",
      "[CV]  C=70, gamma=0.8, kernel=rbf, score=0.9801324503311258, total=   0.0s\n",
      "[CV] C=70, gamma=0.9, kernel=rbf .....................................\n",
      "[CV]  C=70, gamma=0.9, kernel=rbf, score=0.9605263157894737, total=   0.0s\n",
      "[CV] C=70, gamma=0.9, kernel=rbf .....................................\n",
      "[CV]  C=70, gamma=0.9, kernel=rbf, score=0.9605263157894737, total=   0.0s\n",
      "[CV] C=70, gamma=0.9, kernel=rbf .....................................\n",
      "[CV]  C=70, gamma=0.9, kernel=rbf, score=0.9801324503311258, total=   0.0s\n",
      "[CV] C=70, gamma=1, kernel=rbf .......................................\n",
      "[CV]  C=70, gamma=1, kernel=rbf, score=0.9605263157894737, total=   0.0s\n",
      "[CV] C=70, gamma=1, kernel=rbf .......................................\n",
      "[CV]  C=70, gamma=1, kernel=rbf, score=0.9605263157894737, total=   0.0s\n",
      "[CV] C=70, gamma=1, kernel=rbf .......................................\n",
      "[CV]  C=70, gamma=1, kernel=rbf, score=0.9801324503311258, total=   0.0s\n",
      "[CV] C=80, gamma=0.1, kernel=rbf .....................................\n",
      "[CV]  C=80, gamma=0.1, kernel=rbf, score=0.993421052631579, total=   0.0s\n",
      "[CV] C=80, gamma=0.1, kernel=rbf .....................................\n",
      "[CV]  C=80, gamma=0.1, kernel=rbf, score=0.9539473684210527, total=   0.0s\n",
      "[CV] C=80, gamma=0.1, kernel=rbf .....................................\n",
      "[CV]  C=80, gamma=0.1, kernel=rbf, score=0.9735099337748344, total=   0.0s\n",
      "[CV] C=80, gamma=0.2, kernel=rbf .....................................\n",
      "[CV]  C=80, gamma=0.2, kernel=rbf, score=0.993421052631579, total=   0.0s\n",
      "[CV] C=80, gamma=0.2, kernel=rbf .....................................\n",
      "[CV]  C=80, gamma=0.2, kernel=rbf, score=0.9473684210526315, total=   0.0s\n",
      "[CV] C=80, gamma=0.2, kernel=rbf .....................................\n",
      "[CV]  C=80, gamma=0.2, kernel=rbf, score=0.9801324503311258, total=   0.0s\n",
      "[CV] C=80, gamma=0.3, kernel=rbf .....................................\n",
      "[CV]  C=80, gamma=0.3, kernel=rbf, score=0.9868421052631579, total=   0.0s\n",
      "[CV] C=80, gamma=0.3, kernel=rbf .....................................\n",
      "[CV]  C=80, gamma=0.3, kernel=rbf, score=0.9539473684210527, total=   0.0s\n",
      "[CV] C=80, gamma=0.3, kernel=rbf .....................................\n",
      "[CV]  C=80, gamma=0.3, kernel=rbf, score=0.9735099337748344, total=   0.0s\n",
      "[CV] C=80, gamma=0.4, kernel=rbf .....................................\n",
      "[CV]  C=80, gamma=0.4, kernel=rbf, score=0.9802631578947368, total=   0.0s\n",
      "[CV] C=80, gamma=0.4, kernel=rbf .....................................\n",
      "[CV]  C=80, gamma=0.4, kernel=rbf, score=0.9473684210526315, total=   0.0s\n",
      "[CV] C=80, gamma=0.4, kernel=rbf .....................................\n",
      "[CV]  C=80, gamma=0.4, kernel=rbf, score=0.9867549668874173, total=   0.0s\n",
      "[CV] C=80, gamma=0.5, kernel=rbf .....................................\n",
      "[CV]  C=80, gamma=0.5, kernel=rbf, score=0.9736842105263158, total=   0.0s\n",
      "[CV] C=80, gamma=0.5, kernel=rbf .....................................\n",
      "[CV]  C=80, gamma=0.5, kernel=rbf, score=0.9539473684210527, total=   0.0s\n",
      "[CV] C=80, gamma=0.5, kernel=rbf .....................................\n",
      "[CV]  C=80, gamma=0.5, kernel=rbf, score=0.9801324503311258, total=   0.0s\n",
      "[CV] C=80, gamma=0.6, kernel=rbf .....................................\n",
      "[CV]  C=80, gamma=0.6, kernel=rbf, score=0.9605263157894737, total=   0.0s\n",
      "[CV] C=80, gamma=0.6, kernel=rbf .....................................\n",
      "[CV]  C=80, gamma=0.6, kernel=rbf, score=0.9539473684210527, total=   0.0s\n",
      "[CV] C=80, gamma=0.6, kernel=rbf .....................................\n",
      "[CV]  C=80, gamma=0.6, kernel=rbf, score=0.9801324503311258, total=   0.0s\n",
      "[CV] C=80, gamma=0.7, kernel=rbf .....................................\n",
      "[CV]  C=80, gamma=0.7, kernel=rbf, score=0.9605263157894737, total=   0.0s\n",
      "[CV] C=80, gamma=0.7, kernel=rbf .....................................\n",
      "[CV]  C=80, gamma=0.7, kernel=rbf, score=0.9671052631578947, total=   0.0s\n",
      "[CV] C=80, gamma=0.7, kernel=rbf .....................................\n",
      "[CV]  C=80, gamma=0.7, kernel=rbf, score=0.9801324503311258, total=   0.0s\n",
      "[CV] C=80, gamma=0.8, kernel=rbf .....................................\n",
      "[CV]  C=80, gamma=0.8, kernel=rbf, score=0.9605263157894737, total=   0.0s\n",
      "[CV] C=80, gamma=0.8, kernel=rbf .....................................\n",
      "[CV]  C=80, gamma=0.8, kernel=rbf, score=0.9605263157894737, total=   0.0s\n",
      "[CV] C=80, gamma=0.8, kernel=rbf .....................................\n",
      "[CV]  C=80, gamma=0.8, kernel=rbf, score=0.9801324503311258, total=   0.0s\n",
      "[CV] C=80, gamma=0.9, kernel=rbf .....................................\n",
      "[CV]  C=80, gamma=0.9, kernel=rbf, score=0.9605263157894737, total=   0.0s\n",
      "[CV] C=80, gamma=0.9, kernel=rbf .....................................\n",
      "[CV]  C=80, gamma=0.9, kernel=rbf, score=0.9605263157894737, total=   0.0s\n",
      "[CV] C=80, gamma=0.9, kernel=rbf .....................................\n",
      "[CV]  C=80, gamma=0.9, kernel=rbf, score=0.9801324503311258, total=   0.0s\n",
      "[CV] C=80, gamma=1, kernel=rbf .......................................\n",
      "[CV]  C=80, gamma=1, kernel=rbf, score=0.9605263157894737, total=   0.0s\n",
      "[CV] C=80, gamma=1, kernel=rbf .......................................\n",
      "[CV]  C=80, gamma=1, kernel=rbf, score=0.9605263157894737, total=   0.0s\n",
      "[CV] C=80, gamma=1, kernel=rbf .......................................\n",
      "[CV]  C=80, gamma=1, kernel=rbf, score=0.9801324503311258, total=   0.0s\n",
      "[CV] C=90, gamma=0.1, kernel=rbf .....................................\n",
      "[CV]  C=90, gamma=0.1, kernel=rbf, score=0.9868421052631579, total=   0.0s\n",
      "[CV] C=90, gamma=0.1, kernel=rbf .....................................\n",
      "[CV]  C=90, gamma=0.1, kernel=rbf, score=0.9539473684210527, total=   0.0s\n",
      "[CV] C=90, gamma=0.1, kernel=rbf .....................................\n",
      "[CV]  C=90, gamma=0.1, kernel=rbf, score=0.9801324503311258, total=   0.0s\n",
      "[CV] C=90, gamma=0.2, kernel=rbf .....................................\n",
      "[CV]  C=90, gamma=0.2, kernel=rbf, score=0.9868421052631579, total=   0.0s\n",
      "[CV] C=90, gamma=0.2, kernel=rbf .....................................\n",
      "[CV]  C=90, gamma=0.2, kernel=rbf, score=0.9605263157894737, total=   0.0s\n",
      "[CV] C=90, gamma=0.2, kernel=rbf .....................................\n",
      "[CV]  C=90, gamma=0.2, kernel=rbf, score=0.9735099337748344, total=   0.0s\n",
      "[CV] C=90, gamma=0.3, kernel=rbf .....................................\n",
      "[CV]  C=90, gamma=0.3, kernel=rbf, score=0.9868421052631579, total=   0.0s\n",
      "[CV] C=90, gamma=0.3, kernel=rbf .....................................\n",
      "[CV]  C=90, gamma=0.3, kernel=rbf, score=0.9473684210526315, total=   0.0s\n",
      "[CV] C=90, gamma=0.3, kernel=rbf .....................................\n",
      "[CV]  C=90, gamma=0.3, kernel=rbf, score=0.9735099337748344, total=   0.0s\n",
      "[CV] C=90, gamma=0.4, kernel=rbf .....................................\n",
      "[CV]  C=90, gamma=0.4, kernel=rbf, score=0.9802631578947368, total=   0.0s\n",
      "[CV] C=90, gamma=0.4, kernel=rbf .....................................\n",
      "[CV]  C=90, gamma=0.4, kernel=rbf, score=0.9473684210526315, total=   0.0s\n",
      "[CV] C=90, gamma=0.4, kernel=rbf .....................................\n",
      "[CV]  C=90, gamma=0.4, kernel=rbf, score=0.9801324503311258, total=   0.0s\n",
      "[CV] C=90, gamma=0.5, kernel=rbf .....................................\n",
      "[CV]  C=90, gamma=0.5, kernel=rbf, score=0.9671052631578947, total=   0.0s\n",
      "[CV] C=90, gamma=0.5, kernel=rbf .....................................\n",
      "[CV]  C=90, gamma=0.5, kernel=rbf, score=0.9539473684210527, total=   0.0s\n",
      "[CV] C=90, gamma=0.5, kernel=rbf .....................................\n",
      "[CV]  C=90, gamma=0.5, kernel=rbf, score=0.9801324503311258, total=   0.0s\n",
      "[CV] C=90, gamma=0.6, kernel=rbf .....................................\n",
      "[CV]  C=90, gamma=0.6, kernel=rbf, score=0.9605263157894737, total=   0.0s\n",
      "[CV] C=90, gamma=0.6, kernel=rbf .....................................\n",
      "[CV]  C=90, gamma=0.6, kernel=rbf, score=0.9539473684210527, total=   0.0s\n",
      "[CV] C=90, gamma=0.6, kernel=rbf .....................................\n",
      "[CV]  C=90, gamma=0.6, kernel=rbf, score=0.9801324503311258, total=   0.0s\n",
      "[CV] C=90, gamma=0.7, kernel=rbf .....................................\n",
      "[CV]  C=90, gamma=0.7, kernel=rbf, score=0.9605263157894737, total=   0.0s\n",
      "[CV] C=90, gamma=0.7, kernel=rbf .....................................\n",
      "[CV]  C=90, gamma=0.7, kernel=rbf, score=0.9539473684210527, total=   0.0s\n",
      "[CV] C=90, gamma=0.7, kernel=rbf .....................................\n",
      "[CV]  C=90, gamma=0.7, kernel=rbf, score=0.9801324503311258, total=   0.0s\n",
      "[CV] C=90, gamma=0.8, kernel=rbf .....................................\n",
      "[CV]  C=90, gamma=0.8, kernel=rbf, score=0.9605263157894737, total=   0.0s\n",
      "[CV] C=90, gamma=0.8, kernel=rbf .....................................\n"
     ]
    },
    {
     "name": "stdout",
     "output_type": "stream",
     "text": [
      "[CV]  C=90, gamma=0.8, kernel=rbf, score=0.9539473684210527, total=   0.0s\n",
      "[CV] C=90, gamma=0.8, kernel=rbf .....................................\n",
      "[CV]  C=90, gamma=0.8, kernel=rbf, score=0.9801324503311258, total=   0.0s\n",
      "[CV] C=90, gamma=0.9, kernel=rbf .....................................\n",
      "[CV]  C=90, gamma=0.9, kernel=rbf, score=0.9605263157894737, total=   0.0s\n",
      "[CV] C=90, gamma=0.9, kernel=rbf .....................................\n",
      "[CV]  C=90, gamma=0.9, kernel=rbf, score=0.9539473684210527, total=   0.0s\n",
      "[CV] C=90, gamma=0.9, kernel=rbf .....................................\n",
      "[CV]  C=90, gamma=0.9, kernel=rbf, score=0.9801324503311258, total=   0.0s\n",
      "[CV] C=90, gamma=1, kernel=rbf .......................................\n",
      "[CV]  C=90, gamma=1, kernel=rbf, score=0.9605263157894737, total=   0.0s\n",
      "[CV] C=90, gamma=1, kernel=rbf .......................................\n",
      "[CV]  C=90, gamma=1, kernel=rbf, score=0.9539473684210527, total=   0.0s\n",
      "[CV] C=90, gamma=1, kernel=rbf .......................................\n",
      "[CV]  C=90, gamma=1, kernel=rbf, score=0.9801324503311258, total=   0.0s\n",
      "[CV] C=100, gamma=0.1, kernel=rbf ....................................\n",
      "[CV]  C=100, gamma=0.1, kernel=rbf, score=0.9868421052631579, total=   0.0s\n",
      "[CV] C=100, gamma=0.1, kernel=rbf ....................................\n",
      "[CV]  C=100, gamma=0.1, kernel=rbf, score=0.9539473684210527, total=   0.0s\n",
      "[CV] C=100, gamma=0.1, kernel=rbf ....................................\n",
      "[CV]  C=100, gamma=0.1, kernel=rbf, score=0.9801324503311258, total=   0.0s\n",
      "[CV] C=100, gamma=0.2, kernel=rbf ....................................\n",
      "[CV]  C=100, gamma=0.2, kernel=rbf, score=0.993421052631579, total=   0.0s\n",
      "[CV] C=100, gamma=0.2, kernel=rbf ....................................\n",
      "[CV]  C=100, gamma=0.2, kernel=rbf, score=0.9605263157894737, total=   0.0s\n",
      "[CV] C=100, gamma=0.2, kernel=rbf ....................................\n",
      "[CV]  C=100, gamma=0.2, kernel=rbf, score=0.9668874172185431, total=   0.0s\n",
      "[CV] C=100, gamma=0.3, kernel=rbf ....................................\n",
      "[CV]  C=100, gamma=0.3, kernel=rbf, score=0.9868421052631579, total=   0.0s\n",
      "[CV] C=100, gamma=0.3, kernel=rbf ....................................\n",
      "[CV]  C=100, gamma=0.3, kernel=rbf, score=0.9473684210526315, total=   0.0s\n",
      "[CV] C=100, gamma=0.3, kernel=rbf ....................................\n",
      "[CV]  C=100, gamma=0.3, kernel=rbf, score=0.9801324503311258, total=   0.0s\n",
      "[CV] C=100, gamma=0.4, kernel=rbf ....................................\n",
      "[CV]  C=100, gamma=0.4, kernel=rbf, score=0.9802631578947368, total=   0.0s\n",
      "[CV] C=100, gamma=0.4, kernel=rbf ....................................\n",
      "[CV]  C=100, gamma=0.4, kernel=rbf, score=0.9473684210526315, total=   0.0s\n",
      "[CV] C=100, gamma=0.4, kernel=rbf ....................................\n",
      "[CV]  C=100, gamma=0.4, kernel=rbf, score=0.9801324503311258, total=   0.0s\n",
      "[CV] C=100, gamma=0.5, kernel=rbf ....................................\n",
      "[CV]  C=100, gamma=0.5, kernel=rbf, score=0.9605263157894737, total=   0.0s\n",
      "[CV] C=100, gamma=0.5, kernel=rbf ....................................\n",
      "[CV]  C=100, gamma=0.5, kernel=rbf, score=0.9539473684210527, total=   0.0s\n",
      "[CV] C=100, gamma=0.5, kernel=rbf ....................................\n",
      "[CV]  C=100, gamma=0.5, kernel=rbf, score=0.9801324503311258, total=   0.0s\n",
      "[CV] C=100, gamma=0.6, kernel=rbf ....................................\n",
      "[CV]  C=100, gamma=0.6, kernel=rbf, score=0.9605263157894737, total=   0.0s\n",
      "[CV] C=100, gamma=0.6, kernel=rbf ....................................\n",
      "[CV]  C=100, gamma=0.6, kernel=rbf, score=0.9473684210526315, total=   0.0s\n",
      "[CV] C=100, gamma=0.6, kernel=rbf ....................................\n",
      "[CV]  C=100, gamma=0.6, kernel=rbf, score=0.9801324503311258, total=   0.0s\n",
      "[CV] C=100, gamma=0.7, kernel=rbf ....................................\n",
      "[CV]  C=100, gamma=0.7, kernel=rbf, score=0.9605263157894737, total=   0.0s\n",
      "[CV] C=100, gamma=0.7, kernel=rbf ....................................\n",
      "[CV]  C=100, gamma=0.7, kernel=rbf, score=0.9539473684210527, total=   0.0s\n",
      "[CV] C=100, gamma=0.7, kernel=rbf ....................................\n",
      "[CV]  C=100, gamma=0.7, kernel=rbf, score=0.9801324503311258, total=   0.0s\n",
      "[CV] C=100, gamma=0.8, kernel=rbf ....................................\n",
      "[CV]  C=100, gamma=0.8, kernel=rbf, score=0.9605263157894737, total=   0.0s\n",
      "[CV] C=100, gamma=0.8, kernel=rbf ....................................\n",
      "[CV]  C=100, gamma=0.8, kernel=rbf, score=0.9539473684210527, total=   0.0s\n",
      "[CV] C=100, gamma=0.8, kernel=rbf ....................................\n",
      "[CV]  C=100, gamma=0.8, kernel=rbf, score=0.9801324503311258, total=   0.0s\n",
      "[CV] C=100, gamma=0.9, kernel=rbf ....................................\n",
      "[CV]  C=100, gamma=0.9, kernel=rbf, score=0.9605263157894737, total=   0.0s\n",
      "[CV] C=100, gamma=0.9, kernel=rbf ....................................\n",
      "[CV]  C=100, gamma=0.9, kernel=rbf, score=0.9539473684210527, total=   0.0s\n",
      "[CV] C=100, gamma=0.9, kernel=rbf ....................................\n",
      "[CV]  C=100, gamma=0.9, kernel=rbf, score=0.9801324503311258, total=   0.0s\n",
      "[CV] C=100, gamma=1, kernel=rbf ......................................\n",
      "[CV]  C=100, gamma=1, kernel=rbf, score=0.9605263157894737, total=   0.0s\n",
      "[CV] C=100, gamma=1, kernel=rbf ......................................\n",
      "[CV]  C=100, gamma=1, kernel=rbf, score=0.9539473684210527, total=   0.0s\n",
      "[CV] C=100, gamma=1, kernel=rbf ......................................\n",
      "[CV]  C=100, gamma=1, kernel=rbf, score=0.9801324503311258, total=   0.0s\n"
     ]
    },
    {
     "name": "stderr",
     "output_type": "stream",
     "text": [
      "[Parallel(n_jobs=1)]: Done 300 out of 300 | elapsed:    3.5s finished\n"
     ]
    },
    {
     "data": {
      "text/plain": [
       "GridSearchCV(cv=None, error_score='raise',\n",
       "       estimator=SVC(C=1.0, cache_size=200, class_weight=None, coef0=0.0,\n",
       "  decision_function_shape='ovr', degree=3, gamma='auto', kernel='rbf',\n",
       "  max_iter=-1, probability=False, random_state=None, shrinking=True,\n",
       "  tol=0.001, verbose=False),\n",
       "       fit_params=None, iid=True, n_jobs=1,\n",
       "       param_grid={'C': [10, 20, 30, 40, 50, 60, 70, 80, 90, 100], 'gamma': [0.1, 0.2, 0.3, 0.4, 0.5, 0.6, 0.7, 0.8, 0.9, 1], 'kernel': ['rbf']},\n",
       "       pre_dispatch='2*n_jobs', refit=True, return_train_score='warn',\n",
       "       scoring=None, verbose=4)"
      ]
     },
     "execution_count": 60,
     "metadata": {},
     "output_type": "execute_result"
    }
   ],
   "source": [
    "grid.fit(X_train_scal, y_train)"
   ]
  },
  {
   "cell_type": "code",
   "execution_count": 61,
   "metadata": {},
   "outputs": [
    {
     "data": {
      "text/plain": [
       "{'C': 10, 'gamma': 0.3, 'kernel': 'rbf'}"
      ]
     },
     "execution_count": 61,
     "metadata": {},
     "output_type": "execute_result"
    }
   ],
   "source": [
    "grid.best_params_"
   ]
  },
  {
   "cell_type": "code",
   "execution_count": 70,
   "metadata": {},
   "outputs": [],
   "source": [
    "grid_pred = grid.predict(X_test_scal)"
   ]
  },
  {
   "cell_type": "code",
   "execution_count": 71,
   "metadata": {},
   "outputs": [],
   "source": [
    "cm = confusion_matrix(y_test, grid_pred)"
   ]
  },
  {
   "cell_type": "code",
   "execution_count": 72,
   "metadata": {},
   "outputs": [
    {
     "data": {
      "text/plain": [
       "<matplotlib.axes._subplots.AxesSubplot at 0x180aeffe710>"
      ]
     },
     "execution_count": 72,
     "metadata": {},
     "output_type": "execute_result"
    },
    {
     "data": {
      "image/png": "[encoded data removed]",
      "text/plain": [
       "<Figure size 432x288 with 2 Axes>"
      ]
     },
     "metadata": {},
     "output_type": "display_data"
    }
   ],
   "source": [
    "sns.heatmap(cm, annot= True)"
   ]
  },
  {
   "cell_type": "code",
   "execution_count": 73,
   "metadata": {},
   "outputs": [
    {
     "name": "stdout",
     "output_type": "stream",
     "text": [
      "             precision    recall  f1-score   support\n",
      "\n",
      "        0.0       1.00      0.94      0.97        48\n",
      "        1.0       0.96      1.00      0.98        66\n",
      "\n",
      "avg / total       0.97      0.97      0.97       114\n",
      "\n"
     ]
    }
   ],
   "source": [
    "print (classification_report(y_test, grid_pred))"
   ]
  }
 ],
 "metadata": {
  "kernelspec": {
   "display_name": "Python 3",
   "language": "python",
   "name": "python3"
  },
  "language_info": {
   "codemirror_mode": {
    "name": "ipython",
    "version": 3
   },
   "file_extension": ".py",
   "mimetype": "text/x-python",
   "name": "python",
   "nbconvert_exporter": "python",
   "pygments_lexer": "ipython3",
   "version": "3.6.5"
  }
 },
 "nbformat": 4,
 "nbformat_minor": 2
}
